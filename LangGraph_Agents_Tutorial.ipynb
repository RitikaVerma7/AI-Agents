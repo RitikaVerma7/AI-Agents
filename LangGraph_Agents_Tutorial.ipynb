{
  "cells": [
    {
      "cell_type": "markdown",
      "metadata": {
        "id": "Mlzy2o0sLNSj"
      },
      "source": [
        "# LangGraph and Agentic Workflows\n",
        "\n",
        "An agent acts on behalf of the principal. Therefore, an agent has behavior that can range from strictly rule-based to largely autonomous. We already interact with LLMs using prompts, known as prompt engineering. Prompt engineering is how humans interact with LLMs, and agentic workflows are how LLMs interoperate with tools and other agents, which we can call flow engineering."
      ]
    },
    {
      "cell_type": "code",
      "execution_count": null,
      "metadata": {
        "id": "_jWxZUejOzAT"
      },
      "outputs": [],
      "source": [
        "# from google.colab import drive\n",
        "# drive.mount('/content/drive')  # Add My Drive/<>\n",
        "\n",
        "# import os\n",
        "# os.chdir('drive/My Drive')\n",
        "# os.chdir('Books_Writings/NLPBook/')"
      ]
    },
    {
      "cell_type": "code",
      "execution_count": 53,
      "metadata": {
        "id": "UehicadqO6mv"
      },
      "outputs": [],
      "source": [
        "%%capture\n",
        "%pylab inline\n",
        "import pandas as pd\n",
        "import os\n",
        "!pip install Pillow<10.0.0\n",
        "# !pip install --upgrade ipypublish --quiet\n",
        "# from ipypublish import nb_setup\n",
        "from IPython.display import Image"
      ]
    },
    {
      "cell_type": "code",
      "execution_count": 54,
      "metadata": {
        "id": "uwqdcbAqInta"
      },
      "outputs": [],
      "source": [
        "import textwrap\n",
        "\n",
        "def p80(text):\n",
        "    print(textwrap.fill(text, 80))\n",
        "    return None"
      ]
    },
    {
      "cell_type": "code",
      "source": [
        "!pip install -U langgraph langsmith langchain_anthropic --quiet"
      ],
      "metadata": {
        "colab": {
          "base_uri": "https://localhost:8080/"
        },
        "id": "_sBD_5ZYnqNB",
        "outputId": "8979a597-13ef-4cc0-f24d-a40325f9311e"
      },
      "execution_count": 70,
      "outputs": [
        {
          "output_type": "stream",
          "name": "stdout",
          "text": [
            "\u001b[?25l   \u001b[90m━━━━━━━━━━━━━━━━━━━━━━━━━━━━━━━━━━━━━━━━\u001b[0m \u001b[32m0.0/311.3 kB\u001b[0m \u001b[31m?\u001b[0m eta \u001b[36m-:--:--\u001b[0m\r\u001b[2K   \u001b[91m━━━━━━━━━━━━━━━━━━━━━━━━━━━━━━━━━━━━━━━\u001b[0m\u001b[90m╺\u001b[0m \u001b[32m307.2/311.3 kB\u001b[0m \u001b[31m15.9 MB/s\u001b[0m eta \u001b[36m0:00:01\u001b[0m\r\u001b[2K   \u001b[90m━━━━━━━━━━━━━━━━━━━━━━━━━━━━━━━━━━━━━━━━\u001b[0m \u001b[32m311.3/311.3 kB\u001b[0m \u001b[31m8.5 MB/s\u001b[0m eta \u001b[36m0:00:00\u001b[0m\n",
            "\u001b[?25h\u001b[?25l   \u001b[90m━━━━━━━━━━━━━━━━━━━━━━━━━━━━━━━━━━━━━━━━\u001b[0m \u001b[32m0.0/198.4 kB\u001b[0m \u001b[31m?\u001b[0m eta \u001b[36m-:--:--\u001b[0m\r\u001b[2K   \u001b[90m━━━━━━━━━━━━━━━━━━━━━━━━━━━━━━━━━━━━━━━━\u001b[0m \u001b[32m198.4/198.4 kB\u001b[0m \u001b[31m12.8 MB/s\u001b[0m eta \u001b[36m0:00:00\u001b[0m\n",
            "\u001b[?25h"
          ]
        }
      ]
    },
    {
      "cell_type": "markdown",
      "source": [
        "### Part 1: Build a Basic Chatbot"
      ],
      "metadata": {
        "id": "Eea-wsUSwjPI"
      }
    },
    {
      "cell_type": "code",
      "source": [
        "import getpass\n",
        "import os\n",
        "\n",
        "\n",
        "def _set_env(var: str):\n",
        "    if not os.environ.get(var):\n",
        "        os.environ[var] = getpass.getpass(f\"{var}: \")\n",
        "\n",
        "\n",
        "_set_env(\"ANTHROPIC_API_KEY\")"
      ],
      "metadata": {
        "colab": {
          "base_uri": "https://localhost:8080/"
        },
        "id": "JtbMCZ8NnqLP",
        "outputId": "2bfc64eb-e92f-423a-b856-d65349788cf7"
      },
      "execution_count": 72,
      "outputs": [
        {
          "name": "stdout",
          "output_type": "stream",
          "text": [
            "ANTHROPIC_API_KEY: ··········\n"
          ]
        }
      ]
    },
    {
      "cell_type": "code",
      "source": [
        "from typing import Annotated\n",
        "\n",
        "from typing_extensions import TypedDict\n",
        "\n",
        "from langgraph.graph import StateGraph, START, END\n",
        "from langgraph.graph.message import add_messages\n",
        "\n",
        "\n",
        "class State(TypedDict):\n",
        "    # Messages have the type \"list\". The `add_messages` function\n",
        "    # in the annotation defines how this state key should be updated\n",
        "    # (in this case, it appends messages to the list, rather than overwriting them)\n",
        "    messages: Annotated[list, add_messages]\n",
        "\n",
        "\n",
        "graph_builder = StateGraph(State)"
      ],
      "metadata": {
        "id": "Lda-gC0cnqI-"
      },
      "execution_count": 73,
      "outputs": []
    },
    {
      "cell_type": "code",
      "source": [
        "from langchain_anthropic import ChatAnthropic\n",
        "\n",
        "llm = ChatAnthropic(model=\"claude-3-5-sonnet-20240620\")\n",
        "\n",
        "\n",
        "def chatbot(state: State):\n",
        "    return {\"messages\": [llm.invoke(state[\"messages\"])]}\n",
        "\n",
        "\n",
        "# The first argument is the unique node name\n",
        "# The second argument is the function or object that will be called whenever\n",
        "# the node is used.\n",
        "graph_builder.add_node(\"chatbot\", chatbot)"
      ],
      "metadata": {
        "colab": {
          "base_uri": "https://localhost:8080/"
        },
        "id": "hyQ0iKqTnqGi",
        "outputId": "cc350020-2dbd-4b2e-d90e-bb856845999f"
      },
      "execution_count": 74,
      "outputs": [
        {
          "output_type": "execute_result",
          "data": {
            "text/plain": [
              "<langgraph.graph.state.StateGraph at 0x7acf16012140>"
            ]
          },
          "metadata": {},
          "execution_count": 74
        }
      ]
    },
    {
      "cell_type": "code",
      "source": [
        "graph_builder.add_edge(START, \"chatbot\")"
      ],
      "metadata": {
        "colab": {
          "base_uri": "https://localhost:8080/"
        },
        "id": "gvzwqWTmnqEC",
        "outputId": "56252536-715d-4b9e-d013-bb86a3b3722c"
      },
      "execution_count": 75,
      "outputs": [
        {
          "output_type": "execute_result",
          "data": {
            "text/plain": [
              "<langgraph.graph.state.StateGraph at 0x7acf16012140>"
            ]
          },
          "metadata": {},
          "execution_count": 75
        }
      ]
    },
    {
      "cell_type": "code",
      "source": [
        "graph_builder.add_edge(\"chatbot\", END)"
      ],
      "metadata": {
        "colab": {
          "base_uri": "https://localhost:8080/"
        },
        "id": "xPZ796UOnqBl",
        "outputId": "a35e4005-0f80-4e5d-f486-af22e5be0871"
      },
      "execution_count": 76,
      "outputs": [
        {
          "output_type": "execute_result",
          "data": {
            "text/plain": [
              "<langgraph.graph.state.StateGraph at 0x7acf16012140>"
            ]
          },
          "metadata": {},
          "execution_count": 76
        }
      ]
    },
    {
      "cell_type": "code",
      "source": [
        "graph = graph_builder.compile()"
      ],
      "metadata": {
        "id": "ptpBqmUunp_A"
      },
      "execution_count": 77,
      "outputs": []
    },
    {
      "cell_type": "code",
      "source": [
        "from IPython.display import Image, display\n",
        "\n",
        "try:\n",
        "    display(Image(graph.get_graph().draw_mermaid_png()))\n",
        "except Exception:\n",
        "    # This requires some extra dependencies and is optional\n",
        "    pass"
      ],
      "metadata": {
        "colab": {
          "base_uri": "https://localhost:8080/",
          "height": 251
        },
        "id": "7tQdciu8pG6S",
        "outputId": "ac7e01f6-a46a-4a74-b73a-96cbf16b7f1e"
      },
      "execution_count": 78,
      "outputs": [
        {
          "output_type": "display_data",
          "data": {
            "image/png": "[encoded data removed]",
            "text/plain": [
              "<IPython.core.display.Image object>"
            ]
          },
          "metadata": {}
        }
      ]
    },
    {
      "cell_type": "code",
      "source": [
        "def stream_graph_updates(user_input: str):\n",
        "    for event in graph.stream({\"messages\": [(\"user\", user_input)]}):\n",
        "        for value in event.values():\n",
        "            print(\"Assistant:\", value[\"messages\"][-1].content)\n",
        "\n",
        "\n",
        "while True:\n",
        "    try:\n",
        "        user_input = input(\"User: \")\n",
        "        if user_input.lower() in [\"quit\", \"exit\", \"q\"]:\n",
        "            print(\"Goodbye!\")\n",
        "            break\n",
        "\n",
        "        stream_graph_updates(user_input)\n",
        "    except:\n",
        "        # fallback if input() is not available\n",
        "        user_input = \"What do you know about LangGraph?\"\n",
        "        print(\"User: \" + user_input)\n",
        "        stream_graph_updates(user_input)\n",
        "        break"
      ],
      "metadata": {
        "colab": {
          "base_uri": "https://localhost:8080/"
        },
        "id": "2552HL-mpH7o",
        "outputId": "657cf474-a3ad-4c1c-cfd5-464f833a8b53"
      },
      "execution_count": 82,
      "outputs": [
        {
          "output_type": "stream",
          "name": "stdout",
          "text": [
            "User: what is earth?\n",
            "Assistant: Earth is:\n",
            "\n",
            "1. The third planet from the Sun in our solar system.\n",
            "\n",
            "2. The only known planet to support life as we know it.\n",
            "\n",
            "3. A terrestrial planet with a solid rocky surface.\n",
            "\n",
            "4. Approximately 4.54 billion years old.\n",
            "\n",
            "5. Home to a diverse range of ecosystems, flora, and fauna.\n",
            "\n",
            "6. Composed of several layers: crust, mantle, outer core, and inner core.\n",
            "\n",
            "7. Covered by about 71% water (oceans, seas, lakes, rivers, and ice).\n",
            "\n",
            "8. Surrounded by an atmosphere composed mainly of nitrogen and oxygen.\n",
            "\n",
            "9. The largest of the four terrestrial planets in the solar system.\n",
            "\n",
            "10. Home to over 7.9 billion humans (as of 2023).\n",
            "\n",
            "11. Often referred to as the \"Blue Planet\" due to its appearance from space.\n",
            "\n",
            "12. Characterized by diverse landscapes including mountains, deserts, forests, and grasslands.\n",
            "\n",
            "Earth is unique in our solar system for its ability to sustain complex life forms and its dynamic systems, including plate tectonics, weather, and climate.\n",
            "User: q\n",
            "Goodbye!\n"
          ]
        }
      ]
    },
    {
      "cell_type": "markdown",
      "source": [
        "### Part 2: 🛠️ Enhancing the Chatbot with Tools¶"
      ],
      "metadata": {
        "id": "EevtDwjiqpLc"
      }
    },
    {
      "cell_type": "code",
      "source": [
        "!pip install -U tavily-python langchain_community --quiet"
      ],
      "metadata": {
        "colab": {
          "base_uri": "https://localhost:8080/"
        },
        "id": "_Rx6hF-gpH3Z",
        "outputId": "4d3c2dd7-e5a5-493d-9b87-79dfd061a3ca"
      },
      "execution_count": 83,
      "outputs": [
        {
          "output_type": "stream",
          "name": "stdout",
          "text": [
            "\u001b[?25l   \u001b[90m━━━━━━━━━━━━━━━━━━━━━━━━━━━━━━━━━━━━━━━━\u001b[0m \u001b[32m0.0/1.2 MB\u001b[0m \u001b[31m?\u001b[0m eta \u001b[36m-:--:--\u001b[0m\r\u001b[2K   \u001b[91m━━━━━━━━━━\u001b[0m\u001b[90m╺\u001b[0m\u001b[90m━━━━━━━━━━━━━━━━━━━━━━━━━━━━━\u001b[0m \u001b[32m0.3/1.2 MB\u001b[0m \u001b[31m9.3 MB/s\u001b[0m eta \u001b[36m0:00:01\u001b[0m\r\u001b[2K   \u001b[90m━━━━━━━━━━━━━━━━━━━━━━━━━━━━━━━━━━━━━━━━\u001b[0m \u001b[32m1.2/1.2 MB\u001b[0m \u001b[31m16.7 MB/s\u001b[0m eta \u001b[36m0:00:00\u001b[0m\n",
            "\u001b[?25h"
          ]
        }
      ]
    },
    {
      "cell_type": "code",
      "source": [
        "_set_env(\"TAVILY_API_KEY\")"
      ],
      "metadata": {
        "colab": {
          "base_uri": "https://localhost:8080/"
        },
        "id": "lZX1oLyCpH1R",
        "outputId": "ef1cbb74-79f8-4aab-b89f-031987a713f0"
      },
      "execution_count": 84,
      "outputs": [
        {
          "name": "stdout",
          "output_type": "stream",
          "text": [
            "TAVILY_API_KEY: ··········\n"
          ]
        }
      ]
    },
    {
      "cell_type": "code",
      "source": [
        "from langchain_community.tools.tavily_search import TavilySearchResults\n",
        "\n",
        "tool = TavilySearchResults(max_results=2)\n",
        "tools = [tool]\n",
        "tool.invoke(\"What's a 'node' in LangGraph?\")"
      ],
      "metadata": {
        "colab": {
          "base_uri": "https://localhost:8080/"
        },
        "id": "YuLu1zjiqr6D",
        "outputId": "1b3cef2e-7bbc-4af4-9dba-068fa35e8e34"
      },
      "execution_count": 85,
      "outputs": [
        {
          "output_type": "execute_result",
          "data": {
            "text/plain": [
              "[{'url': 'https://medium.com/@cplog/introduction-to-langgraph-a-beginners-guide-14f9be027141',\n",
              "  'content': 'Nodes: Nodes are the building blocks of your LangGraph. Each node represents a function or a computation step. You define nodes to perform specific tasks, such as processing input, making'},\n",
              " {'url': 'https://www.datacamp.com/tutorial/langgraph-tutorial',\n",
              "  'content': \"In LangGraph, each node represents an LLM agent, and the edges are the communication channels between these agents. This structure allows for clear and manageable workflows, where each agent performs specific tasks and passes information to other agents as needed. State management. One of LangGraph's standout features is its automatic state\"}]"
            ]
          },
          "metadata": {},
          "execution_count": 85
        }
      ]
    },
    {
      "cell_type": "code",
      "source": [
        "from typing import Annotated\n",
        "\n",
        "from langchain_anthropic import ChatAnthropic\n",
        "from typing_extensions import TypedDict\n",
        "\n",
        "from langgraph.graph import StateGraph, START, END\n",
        "from langgraph.graph.message import add_messages\n",
        "\n",
        "\n",
        "class State(TypedDict):\n",
        "    messages: Annotated[list, add_messages]\n",
        "\n",
        "\n",
        "graph_builder = StateGraph(State)\n",
        "\n",
        "\n",
        "llm = ChatAnthropic(model=\"claude-3-5-sonnet-20240620\")\n",
        "# Modification: tell the LLM which tools it can call\n",
        "llm_with_tools = llm.bind_tools(tools)\n",
        "\n",
        "\n",
        "def chatbot(state: State):\n",
        "    return {\"messages\": [llm_with_tools.invoke(state[\"messages\"])]}\n",
        "\n",
        "\n",
        "graph_builder.add_node(\"chatbot\", chatbot)"
      ],
      "metadata": {
        "colab": {
          "base_uri": "https://localhost:8080/"
        },
        "id": "Bfes_6ouqr37",
        "outputId": "2b8a4817-6115-443b-e0f4-6a07c4e20338"
      },
      "execution_count": 86,
      "outputs": [
        {
          "output_type": "execute_result",
          "data": {
            "text/plain": [
              "<langgraph.graph.state.StateGraph at 0x7acf0b9b3c40>"
            ]
          },
          "metadata": {},
          "execution_count": 86
        }
      ]
    },
    {
      "cell_type": "code",
      "source": [
        "import json\n",
        "\n",
        "from langchain_core.messages import ToolMessage\n",
        "\n",
        "\n",
        "class BasicToolNode:\n",
        "    \"\"\"A node that runs the tools requested in the last AIMessage.\"\"\"\n",
        "\n",
        "    def __init__(self, tools: list) -> None:\n",
        "        self.tools_by_name = {tool.name: tool for tool in tools}\n",
        "\n",
        "    def __call__(self, inputs: dict):\n",
        "        if messages := inputs.get(\"messages\", []):\n",
        "            message = messages[-1]\n",
        "        else:\n",
        "            raise ValueError(\"No message found in input\")\n",
        "        outputs = []\n",
        "        for tool_call in message.tool_calls:\n",
        "            tool_result = self.tools_by_name[tool_call[\"name\"]].invoke(\n",
        "                tool_call[\"args\"]\n",
        "            )\n",
        "            outputs.append(\n",
        "                ToolMessage(\n",
        "                    content=json.dumps(tool_result),\n",
        "                    name=tool_call[\"name\"],\n",
        "                    tool_call_id=tool_call[\"id\"],\n",
        "                )\n",
        "            )\n",
        "        return {\"messages\": outputs}\n",
        "\n",
        "\n",
        "tool_node = BasicToolNode(tools=[tool])\n",
        "graph_builder.add_node(\"tools\", tool_node)"
      ],
      "metadata": {
        "colab": {
          "base_uri": "https://localhost:8080/"
        },
        "id": "bAvWQ8Stqr1f",
        "outputId": "598c07b3-fa04-4e02-e906-97057e4568b9"
      },
      "execution_count": 87,
      "outputs": [
        {
          "output_type": "execute_result",
          "data": {
            "text/plain": [
              "<langgraph.graph.state.StateGraph at 0x7acf0b9b3c40>"
            ]
          },
          "metadata": {},
          "execution_count": 87
        }
      ]
    },
    {
      "cell_type": "code",
      "source": [
        "from typing import Literal\n",
        "\n",
        "\n",
        "def route_tools(\n",
        "    state: State,\n",
        "):\n",
        "    \"\"\"\n",
        "    Use in the conditional_edge to route to the ToolNode if the last message\n",
        "    has tool calls. Otherwise, route to the end.\n",
        "    \"\"\"\n",
        "    if isinstance(state, list):\n",
        "        ai_message = state[-1]\n",
        "    elif messages := state.get(\"messages\", []):\n",
        "        ai_message = messages[-1]\n",
        "    else:\n",
        "        raise ValueError(f\"No messages found in input state to tool_edge: {state}\")\n",
        "    if hasattr(ai_message, \"tool_calls\") and len(ai_message.tool_calls) > 0:\n",
        "        return \"tools\"\n",
        "    return END\n",
        "\n",
        "\n",
        "# The `tools_condition` function returns \"tools\" if the chatbot asks to use a tool, and \"END\" if\n",
        "# it is fine directly responding. This conditional routing defines the main agent loop.\n",
        "graph_builder.add_conditional_edges(\n",
        "    \"chatbot\",\n",
        "    route_tools,\n",
        "    # The following dictionary lets you tell the graph to interpret the condition's outputs as a specific node\n",
        "    # It defaults to the identity function, but if you\n",
        "    # want to use a node named something else apart from \"tools\",\n",
        "    # You can update the value of the dictionary to something else\n",
        "    # e.g., \"tools\": \"my_tools\"\n",
        "    {\"tools\": \"tools\", END: END},\n",
        ")\n",
        "# Any time a tool is called, we return to the chatbot to decide the next step\n",
        "graph_builder.add_edge(\"tools\", \"chatbot\")\n",
        "graph_builder.add_edge(START, \"chatbot\")\n",
        "graph = graph_builder.compile()"
      ],
      "metadata": {
        "id": "u22Z7Dq7su9k"
      },
      "execution_count": 89,
      "outputs": []
    },
    {
      "cell_type": "code",
      "source": [
        "from IPython.display import Image, display\n",
        "\n",
        "try:\n",
        "    display(Image(graph.get_graph().draw_mermaid_png()))\n",
        "except Exception:\n",
        "    # This requires some extra dependencies and is optional\n",
        "    pass"
      ],
      "metadata": {
        "colab": {
          "base_uri": "https://localhost:8080/",
          "height": 266
        },
        "id": "T4xVqI2hszlH",
        "outputId": "4afbdbb6-c5c7-4362-814b-0228b9478cfa"
      },
      "execution_count": 90,
      "outputs": [
        {
          "output_type": "display_data",
          "data": {
            "image/png": "[encoded data removed]",
            "text/plain": [
              "<IPython.core.display.Image object>"
            ]
          },
          "metadata": {}
        }
      ]
    },
    {
      "cell_type": "code",
      "source": [
        "while True:\n",
        "    try:\n",
        "        user_input = input(\"User: \")\n",
        "        if user_input.lower() in [\"quit\", \"exit\", \"q\"]:\n",
        "            print(\"Goodbye!\")\n",
        "            break\n",
        "\n",
        "        stream_graph_updates(user_input)\n",
        "    except:\n",
        "        # fallback if input() is not available\n",
        "        user_input = \"What do you know about LangGraph?\"\n",
        "        print(\"User: \" + user_input)\n",
        "        stream_graph_updates(user_input)\n",
        "        break"
      ],
      "metadata": {
        "colab": {
          "base_uri": "https://localhost:8080/"
        },
        "id": "pMLdOIges17q",
        "outputId": "cd8871a1-f2d9-42cf-f187-27d590131c55"
      },
      "execution_count": 91,
      "outputs": [
        {
          "output_type": "stream",
          "name": "stdout",
          "text": [
            "User: What do you know about LangGraph?\n",
            "Assistant: [{'text': \"To provide you with accurate and up-to-date information about LangGraph, I'll need to search for the latest details. Let me use the search tool to find this information for you.\", 'type': 'text'}, {'id': 'toolu_01WpGbmfEUhnXFBD3gF97QY5', 'input': {'query': 'LangGraph AI tool information'}, 'name': 'tavily_search_results_json', 'type': 'tool_use'}]\n",
            "Assistant: [{\"url\": \"https://medium.com/coinmonks/a-step-by-step-guide-to-building-ai-agents-with-langgraph-6d21d6e6e34f\", \"content\": \"A Step-by-Step Guide to Building AI Agents with LangGraph | by Alannaelga | Coinmonks | Nov, 2024 | Medium LangGraph allows you to define workflows that include various tools and tasks that the AI agent can perform. LangGraph AI agents can function as virtual assistants, providing users with personalized support for various tasks, from scheduling to data management. Task Automation: AI agents can schedule meetings, set reminders, send emails, and even manage to-do lists, all while learning user preferences and optimizing workflows over time.\"}, {\"url\": \"https://langchain-ai.github.io/langgraph/\", \"content\": \"Overview\\u00b6. LangGraph is a library for building stateful, multi-actor applications with LLMs, used to create agent and multi-agent workflows. Compared to other LLM frameworks, it offers these core benefits: cycles, controllability, and persistence. LangGraph allows you to define flows that involve cycles, essential for most agentic architectures, differentiating it from DAG-based solutions.\"}]\n",
            "Assistant: Based on the search results, I can provide you with information about LangGraph:\n",
            "\n",
            "1. Purpose: LangGraph is a library designed for building stateful, multi-actor applications with Large Language Models (LLMs). It's particularly useful for creating agent and multi-agent workflows.\n",
            "\n",
            "2. Key Features:\n",
            "   - Cycles: Unlike DAG-based solutions, LangGraph allows you to define flows that involve cycles, which is essential for most agent architectures.\n",
            "   - Controllability: It offers better control over the AI agent's actions and decisions.\n",
            "   - Persistence: LangGraph supports maintaining state across interactions.\n",
            "\n",
            "3. Workflow Definition: With LangGraph, you can define workflows that include various tools and tasks for AI agents to perform. This flexibility allows for complex, multi-step processes.\n",
            "\n",
            "4. AI Agent Capabilities:\n",
            "   - Virtual Assistants: LangGraph AI agents can function as personalized virtual assistants, supporting users in various tasks.\n",
            "   - Task Automation: These agents can handle tasks such as scheduling meetings, setting reminders, sending emails, and managing to-do lists.\n",
            "   - Learning and Optimization: Over time, LangGraph agents can learn user preferences and optimize workflows for increased efficiency.\n",
            "\n",
            "5. Applications: It's used in creating AI agents that can provide personalized support for data management, scheduling, and other task-oriented activities.\n",
            "\n",
            "6. Development: LangGraph is part of the LangChain ecosystem, as evidenced by the GitHub repository URL (langchain-ai.github.io/langgraph/).\n",
            "\n",
            "7. Flexibility: The library seems to offer a high degree of customization, allowing developers to create complex, interactive AI agents tailored to specific needs.\n",
            "\n",
            "LangGraph appears to be a powerful tool for developers looking to create sophisticated AI agents with state management and complex interaction flows. It's particularly suited for applications requiring ongoing interactions and learning from user behavior over time.\n",
            "User: q\n",
            "Goodbye!\n"
          ]
        }
      ]
    },
    {
      "cell_type": "markdown",
      "source": [
        "### Part 3: Adding Memory to the Chatbot\n"
      ],
      "metadata": {
        "id": "0Ugtq6cmtKKG"
      }
    },
    {
      "cell_type": "code",
      "source": [
        "from langgraph.checkpoint.memory import MemorySaver\n",
        "\n",
        "memory = MemorySaver()"
      ],
      "metadata": {
        "id": "W1Ey3u1ss7bT"
      },
      "execution_count": 92,
      "outputs": []
    },
    {
      "cell_type": "code",
      "source": [
        "from typing import Annotated\n",
        "\n",
        "from langchain_anthropic import ChatAnthropic\n",
        "from langchain_community.tools.tavily_search import TavilySearchResults\n",
        "from langchain_core.messages import BaseMessage\n",
        "from typing_extensions import TypedDict\n",
        "\n",
        "from langgraph.graph import StateGraph, START, END\n",
        "from langgraph.graph.message import add_messages\n",
        "from langgraph.prebuilt import ToolNode, tools_condition\n",
        "\n",
        "\n",
        "class State(TypedDict):\n",
        "    messages: Annotated[list, add_messages]\n",
        "\n",
        "\n",
        "graph_builder = StateGraph(State)\n",
        "\n",
        "\n",
        "tool = TavilySearchResults(max_results=2)\n",
        "tools = [tool]\n",
        "llm = ChatAnthropic(model=\"claude-3-5-sonnet-20240620\")\n",
        "llm_with_tools = llm.bind_tools(tools)\n",
        "\n",
        "\n",
        "def chatbot(state: State):\n",
        "    return {\"messages\": [llm_with_tools.invoke(state[\"messages\"])]}\n",
        "\n",
        "\n",
        "graph_builder.add_node(\"chatbot\", chatbot)\n",
        "\n",
        "tool_node = ToolNode(tools=[tool])\n",
        "graph_builder.add_node(\"tools\", tool_node)\n",
        "\n",
        "graph_builder.add_conditional_edges(\n",
        "    \"chatbot\",\n",
        "    tools_condition,\n",
        ")\n",
        "# Any time a tool is called, we return to the chatbot to decide the next step\n",
        "graph_builder.add_edge(\"tools\", \"chatbot\")\n",
        "graph_builder.add_edge(START, \"chatbot\")"
      ],
      "metadata": {
        "colab": {
          "base_uri": "https://localhost:8080/"
        },
        "id": "wzL3fAzetPg3",
        "outputId": "7bb93d11-6159-49ee-cf84-80a07db891ea"
      },
      "execution_count": 93,
      "outputs": [
        {
          "output_type": "execute_result",
          "data": {
            "text/plain": [
              "<langgraph.graph.state.StateGraph at 0x7acf0b6be140>"
            ]
          },
          "metadata": {},
          "execution_count": 93
        }
      ]
    },
    {
      "cell_type": "code",
      "source": [
        "graph = graph_builder.compile(checkpointer=memory)"
      ],
      "metadata": {
        "id": "Qjx5gvvBtQHn"
      },
      "execution_count": 94,
      "outputs": []
    },
    {
      "cell_type": "code",
      "source": [
        "from IPython.display import Image, display\n",
        "\n",
        "try:\n",
        "    display(Image(graph.get_graph().draw_mermaid_png()))\n",
        "except Exception:\n",
        "    # This requires some extra dependencies and is optional\n",
        "    pass"
      ],
      "metadata": {
        "colab": {
          "base_uri": "https://localhost:8080/",
          "height": 266
        },
        "id": "vTZG0jG8tQEu",
        "outputId": "4a9075e7-3ca7-492a-9f29-dea0aae47c4e"
      },
      "execution_count": 95,
      "outputs": [
        {
          "output_type": "display_data",
          "data": {
            "image/png": "[encoded data removed]",
            "text/plain": [
              "<IPython.core.display.Image object>"
            ]
          },
          "metadata": {}
        }
      ]
    },
    {
      "cell_type": "code",
      "source": [
        "config = {\"configurable\": {\"thread_id\": \"1\"}}"
      ],
      "metadata": {
        "id": "eD-MR21ntYZ_"
      },
      "execution_count": 96,
      "outputs": []
    },
    {
      "cell_type": "code",
      "source": [
        "user_input = \"Hi there! My name is Ritika.\"\n",
        "\n",
        "# The config is the **second positional argument** to stream() or invoke()!\n",
        "events = graph.stream(\n",
        "    {\"messages\": [(\"user\", user_input)]}, config, stream_mode=\"values\"\n",
        ")\n",
        "for event in events:\n",
        "    event[\"messages\"][-1].pretty_print()"
      ],
      "metadata": {
        "colab": {
          "base_uri": "https://localhost:8080/"
        },
        "id": "I9Ki1VJvtbuR",
        "outputId": "7f5988b2-9c31-449c-b35a-ae600af04ead"
      },
      "execution_count": 97,
      "outputs": [
        {
          "output_type": "stream",
          "name": "stdout",
          "text": [
            "================================\u001b[1m Human Message \u001b[0m=================================\n",
            "\n",
            "Hi there! My name is Ritika.\n",
            "==================================\u001b[1m Ai Message \u001b[0m==================================\n",
            "\n",
            "Hello Ritika! It's nice to meet you. How can I assist you today? Is there anything specific you'd like to know or discuss?\n"
          ]
        }
      ]
    },
    {
      "cell_type": "code",
      "source": [
        "user_input = \"Remember my name?\"\n",
        "\n",
        "# The config is the **second positional argument** to stream() or invoke()!\n",
        "events = graph.stream(\n",
        "    {\"messages\": [(\"user\", user_input)]}, config, stream_mode=\"values\"\n",
        ")\n",
        "for event in events:\n",
        "    event[\"messages\"][-1].pretty_print()"
      ],
      "metadata": {
        "colab": {
          "base_uri": "https://localhost:8080/"
        },
        "id": "iR_bAC14tfhm",
        "outputId": "ff1083ad-832d-441e-ef13-1922538a498e"
      },
      "execution_count": 98,
      "outputs": [
        {
          "output_type": "stream",
          "name": "stdout",
          "text": [
            "================================\u001b[1m Human Message \u001b[0m=================================\n",
            "\n",
            "Remember my name?\n",
            "==================================\u001b[1m Ai Message \u001b[0m==================================\n",
            "\n",
            "Of course, I remember your name, Ritika. I'll be sure to address you by your name in our conversation. Is there anything in particular you'd like to talk about or any questions you have? I'm here to help with a wide range of topics, so please feel free to ask about anything you're curious about.\n"
          ]
        }
      ]
    },
    {
      "cell_type": "code",
      "source": [
        "# The only difference is we change the `thread_id` here to \"2\" instead of \"1\"\n",
        "events = graph.stream(\n",
        "    {\"messages\": [(\"user\", user_input)]},\n",
        "    {\"configurable\": {\"thread_id\": \"2\"}},\n",
        "    stream_mode=\"values\",\n",
        ")\n",
        "for event in events:\n",
        "    event[\"messages\"][-1].pretty_print()"
      ],
      "metadata": {
        "colab": {
          "base_uri": "https://localhost:8080/"
        },
        "id": "VJ94wrZWtj_P",
        "outputId": "c80d4518-ed6f-4d6f-f361-57ae58c355eb"
      },
      "execution_count": 99,
      "outputs": [
        {
          "output_type": "stream",
          "name": "stdout",
          "text": [
            "================================\u001b[1m Human Message \u001b[0m=================================\n",
            "\n",
            "Remember my name?\n",
            "==================================\u001b[1m Ai Message \u001b[0m==================================\n",
            "\n",
            "I apologize, but I don't have any prior context or memory of your name. As an AI assistant, I don't retain information from previous conversations or have personal memory. Each interaction starts fresh. \n",
            "\n",
            "If you'd like me to address you by name, you're welcome to tell me what name you'd prefer, and I'll be happy to use it during our current conversation. Is there a name you'd like me to use?\n"
          ]
        }
      ]
    },
    {
      "cell_type": "code",
      "source": [
        "snapshot = graph.get_state(config)\n",
        "snapshot"
      ],
      "metadata": {
        "colab": {
          "base_uri": "https://localhost:8080/"
        },
        "id": "ZI6QZgFItn7g",
        "outputId": "bf6dc657-1a67-4fdd-dd69-0aa6b73003af"
      },
      "execution_count": 100,
      "outputs": [
        {
          "output_type": "execute_result",
          "data": {
            "text/plain": [
              "StateSnapshot(values={'messages': [HumanMessage(content='Hi there! My name is Ritika.', additional_kwargs={}, response_metadata={}, id='ebd552be-a98a-4d80-9492-82a4c8133872'), AIMessage(content=\"Hello Ritika! It's nice to meet you. How can I assist you today? Is there anything specific you'd like to know or discuss?\", additional_kwargs={}, response_metadata={'id': 'msg_01M1xpP68WrorVq3zD58ntYM', 'model': 'claude-3-5-sonnet-20240620', 'stop_reason': 'end_turn', 'stop_sequence': None, 'usage': {'input_tokens': 407, 'output_tokens': 34}}, id='run-513b3a10-c60c-4b6a-85a8-98ebd675506d-0', usage_metadata={'input_tokens': 407, 'output_tokens': 34, 'total_tokens': 441, 'input_token_details': {}}), HumanMessage(content='Remember my name?', additional_kwargs={}, response_metadata={}, id='d305e155-355b-4cfc-9787-aeb89fbe97fb'), AIMessage(content=\"Of course, I remember your name, Ritika. I'll be sure to address you by your name in our conversation. Is there anything in particular you'd like to talk about or any questions you have? I'm here to help with a wide range of topics, so please feel free to ask about anything you're curious about.\", additional_kwargs={}, response_metadata={'id': 'msg_011aVov3N8fA1vCLej53KhQR', 'model': 'claude-3-5-sonnet-20240620', 'stop_reason': 'end_turn', 'stop_sequence': None, 'usage': {'input_tokens': 448, 'output_tokens': 71}}, id='run-7909f07b-92d3-4d72-bc5a-511bc0179c1e-0', usage_metadata={'input_tokens': 448, 'output_tokens': 71, 'total_tokens': 519, 'input_token_details': {}})]}, next=(), config={'configurable': {'thread_id': '1', 'checkpoint_ns': '', 'checkpoint_id': '1efab873-3c94-6673-8004-18efa01f9bde'}}, metadata={'source': 'loop', 'writes': {'chatbot': {'messages': [AIMessage(content=\"Of course, I remember your name, Ritika. I'll be sure to address you by your name in our conversation. Is there anything in particular you'd like to talk about or any questions you have? I'm here to help with a wide range of topics, so please feel free to ask about anything you're curious about.\", additional_kwargs={}, response_metadata={'id': 'msg_011aVov3N8fA1vCLej53KhQR', 'model': 'claude-3-5-sonnet-20240620', 'stop_reason': 'end_turn', 'stop_sequence': None, 'usage': {'input_tokens': 448, 'output_tokens': 71}}, id='run-7909f07b-92d3-4d72-bc5a-511bc0179c1e-0', usage_metadata={'input_tokens': 448, 'output_tokens': 71, 'total_tokens': 519, 'input_token_details': {}})]}}, 'thread_id': '1', 'step': 4, 'parents': {}}, created_at='2024-11-25T23:44:24.953780+00:00', parent_config={'configurable': {'thread_id': '1', 'checkpoint_ns': '', 'checkpoint_id': '1efab873-2b9e-6059-8003-417aff6b2494'}}, tasks=())"
            ]
          },
          "metadata": {},
          "execution_count": 100
        }
      ]
    },
    {
      "cell_type": "code",
      "source": [
        "snapshot.next  # (since the graph ended this turn, `next` is empty. If you fetch a state from within a graph invocation, next tells which node will execute next)"
      ],
      "metadata": {
        "colab": {
          "base_uri": "https://localhost:8080/"
        },
        "id": "bz1ondR-trXL",
        "outputId": "2942c73d-9b92-4f06-bcde-13d94dee9e64"
      },
      "execution_count": 101,
      "outputs": [
        {
          "output_type": "execute_result",
          "data": {
            "text/plain": [
              "()"
            ]
          },
          "metadata": {},
          "execution_count": 101
        }
      ]
    },
    {
      "cell_type": "markdown",
      "source": [
        "### Part 4: Human-in-the-loop"
      ],
      "metadata": {
        "id": "Hqs7F3STtxZk"
      }
    },
    {
      "cell_type": "code",
      "source": [
        "from typing import Annotated\n",
        "\n",
        "from langchain_anthropic import ChatAnthropic\n",
        "from langchain_community.tools.tavily_search import TavilySearchResults\n",
        "from typing_extensions import TypedDict\n",
        "\n",
        "from langgraph.checkpoint.memory import MemorySaver\n",
        "from langgraph.graph import StateGraph, START\n",
        "from langgraph.graph.message import add_messages\n",
        "from langgraph.prebuilt import ToolNode, tools_condition\n",
        "\n",
        "memory = MemorySaver()\n",
        "\n",
        "\n",
        "class State(TypedDict):\n",
        "    messages: Annotated[list, add_messages]\n",
        "\n",
        "\n",
        "graph_builder = StateGraph(State)\n",
        "\n",
        "\n",
        "tool = TavilySearchResults(max_results=2)\n",
        "tools = [tool]\n",
        "llm = ChatAnthropic(model=\"claude-3-5-sonnet-20240620\")\n",
        "llm_with_tools = llm.bind_tools(tools)\n",
        "\n",
        "\n",
        "def chatbot(state: State):\n",
        "    return {\"messages\": [llm_with_tools.invoke(state[\"messages\"])]}\n",
        "\n",
        "\n",
        "graph_builder.add_node(\"chatbot\", chatbot)\n",
        "\n",
        "tool_node = ToolNode(tools=[tool])\n",
        "graph_builder.add_node(\"tools\", tool_node)\n",
        "\n",
        "graph_builder.add_conditional_edges(\n",
        "    \"chatbot\",\n",
        "    tools_condition,\n",
        ")\n",
        "graph_builder.add_edge(\"tools\", \"chatbot\")\n",
        "graph_builder.add_edge(START, \"chatbot\")"
      ],
      "metadata": {
        "colab": {
          "base_uri": "https://localhost:8080/"
        },
        "id": "b5MxEr5itun8",
        "outputId": "685de583-fd83-463c-bc37-bd9284b37a37"
      },
      "execution_count": 102,
      "outputs": [
        {
          "output_type": "execute_result",
          "data": {
            "text/plain": [
              "<langgraph.graph.state.StateGraph at 0x7acf0b6aece0>"
            ]
          },
          "metadata": {},
          "execution_count": 102
        }
      ]
    },
    {
      "cell_type": "code",
      "source": [
        "graph = graph_builder.compile(\n",
        "    checkpointer=memory,\n",
        "    # This is new!\n",
        "    interrupt_before=[\"tools\"],\n",
        "    # Note: can also interrupt __after__ tools, if desired.\n",
        "    # interrupt_after=[\"tools\"]\n",
        ")"
      ],
      "metadata": {
        "id": "kSYYHMyQty76"
      },
      "execution_count": 103,
      "outputs": []
    },
    {
      "cell_type": "code",
      "source": [
        "user_input = \"I'm learning LangGraph. Could you do some research on it for me?\"\n",
        "config = {\"configurable\": {\"thread_id\": \"1\"}}\n",
        "# The config is the **second positional argument** to stream() or invoke()!\n",
        "events = graph.stream(\n",
        "    {\"messages\": [(\"user\", user_input)]}, config, stream_mode=\"values\"\n",
        ")\n",
        "for event in events:\n",
        "    if \"messages\" in event:\n",
        "        event[\"messages\"][-1].pretty_print()"
      ],
      "metadata": {
        "colab": {
          "base_uri": "https://localhost:8080/"
        },
        "id": "I07oziyhty0u",
        "outputId": "33254a6c-07c0-45c5-ac06-956a74cbdd3e"
      },
      "execution_count": 104,
      "outputs": [
        {
          "output_type": "stream",
          "name": "stdout",
          "text": [
            "================================\u001b[1m Human Message \u001b[0m=================================\n",
            "\n",
            "I'm learning LangGraph. Could you do some research on it for me?\n",
            "==================================\u001b[1m Ai Message \u001b[0m==================================\n",
            "\n",
            "[{'text': \"Certainly! I'd be happy to research LangGraph for you. To get the most up-to-date and comprehensive information, I'll use the Tavily search engine to look this up. Let me do that for you now.\", 'type': 'text'}, {'id': 'toolu_01MhuYKNJgmXPrNujCDKcSAD', 'input': {'query': 'LangGraph framework for AI applications'}, 'name': 'tavily_search_results_json', 'type': 'tool_use'}]\n",
            "Tool Calls:\n",
            "  tavily_search_results_json (toolu_01MhuYKNJgmXPrNujCDKcSAD)\n",
            " Call ID: toolu_01MhuYKNJgmXPrNujCDKcSAD\n",
            "  Args:\n",
            "    query: LangGraph framework for AI applications\n"
          ]
        }
      ]
    },
    {
      "cell_type": "code",
      "source": [
        "snapshot = graph.get_state(config)\n",
        "snapshot.next"
      ],
      "metadata": {
        "colab": {
          "base_uri": "https://localhost:8080/"
        },
        "id": "Fj-iezVAtyyF",
        "outputId": "c1c32517-0022-4c66-b1f3-beb98a796ab6"
      },
      "execution_count": 105,
      "outputs": [
        {
          "output_type": "execute_result",
          "data": {
            "text/plain": [
              "('tools',)"
            ]
          },
          "metadata": {},
          "execution_count": 105
        }
      ]
    },
    {
      "cell_type": "code",
      "source": [
        "existing_message = snapshot.values[\"messages\"][-1]\n",
        "existing_message.tool_calls"
      ],
      "metadata": {
        "colab": {
          "base_uri": "https://localhost:8080/"
        },
        "id": "KkwYVSYzuBis",
        "outputId": "3ea52852-e375-4566-8221-9928e9c2583f"
      },
      "execution_count": 106,
      "outputs": [
        {
          "output_type": "execute_result",
          "data": {
            "text/plain": [
              "[{'name': 'tavily_search_results_json',\n",
              "  'args': {'query': 'LangGraph framework for AI applications'},\n",
              "  'id': 'toolu_01MhuYKNJgmXPrNujCDKcSAD',\n",
              "  'type': 'tool_call'}]"
            ]
          },
          "metadata": {},
          "execution_count": 106
        }
      ]
    },
    {
      "cell_type": "code",
      "source": [
        "# `None` will append nothing new to the current state, letting it resume as if it had never been interrupted\n",
        "events = graph.stream(None, config, stream_mode=\"values\")\n",
        "for event in events:\n",
        "    if \"messages\" in event:\n",
        "        event[\"messages\"][-1].pretty_print()"
      ],
      "metadata": {
        "colab": {
          "base_uri": "https://localhost:8080/"
        },
        "id": "smRjdmhOuEYP",
        "outputId": "4823ba96-48fe-4349-fa3d-34c1c566196d"
      },
      "execution_count": 107,
      "outputs": [
        {
          "output_type": "stream",
          "name": "stdout",
          "text": [
            "==================================\u001b[1m Ai Message \u001b[0m==================================\n",
            "\n",
            "[{'text': \"Certainly! I'd be happy to research LangGraph for you. To get the most up-to-date and comprehensive information, I'll use the Tavily search engine to look this up. Let me do that for you now.\", 'type': 'text'}, {'id': 'toolu_01MhuYKNJgmXPrNujCDKcSAD', 'input': {'query': 'LangGraph framework for AI applications'}, 'name': 'tavily_search_results_json', 'type': 'tool_use'}]\n",
            "Tool Calls:\n",
            "  tavily_search_results_json (toolu_01MhuYKNJgmXPrNujCDKcSAD)\n",
            " Call ID: toolu_01MhuYKNJgmXPrNujCDKcSAD\n",
            "  Args:\n",
            "    query: LangGraph framework for AI applications\n",
            "=================================\u001b[1m Tool Message \u001b[0m=================================\n",
            "Name: tavily_search_results_json\n",
            "\n",
            "[{\"url\": \"https://github.com/langchain-ai/langgraph\", \"content\": \"GitHub - langchain-ai/langgraph: Build resilient language agents as graphs. LangGraph Platform is a commercial solution for deploying agentic applications to production, built on the open-source LangGraph framework. Let's take a look at a simple example of an agent that can use a search tool. # Define the tools for the agent to use # This means that after `tools` is called, `agent` node is called next. workflow.add_edge(\\\"tools\\\", 'agent') Define entry point and graph edges.First, we need to set the entry point for graph execution - agent node. Normal edge: after the tools are invoked, the graph should always return to the agent to decide what to do next LangGraph adds the input message to the internal state, then passes the state to the entrypoint node, \\\"agent\\\".\"}, {\"url\": \"https://www.langchain.com/langgraph\", \"content\": \"Its robust framework for building stateful, multi-actor applications with LLMs has transformed how we evaluate and optimize the performance of our AI guest-facing solutions. LangGraph enables granular control over the agent's thought process, which has empowered us to make data-driven and deliberate decisions to meet the diverse needs of our\"}]\n",
            "==================================\u001b[1m Ai Message \u001b[0m==================================\n",
            "\n",
            "Thank you for your patience. I've researched LangGraph for you, and I'm happy to share what I've found. LangGraph is a framework for building resilient language agents as graphs. Here's a summary of the key points:\n",
            "\n",
            "1. Purpose: LangGraph is designed to create and manage AI applications, particularly those involving language models and agent-like behaviors.\n",
            "\n",
            "2. Open-source and Commercial Versions:\n",
            "   - There's an open-source LangGraph framework available on GitHub.\n",
            "   - LangGraph Platform is a commercial solution for deploying agentic applications to production, built on top of the open-source framework.\n",
            "\n",
            "3. Key Features:\n",
            "   - Allows building stateful, multi-actor applications with Large Language Models (LLMs).\n",
            "   - Enables the creation of agents that can use various tools, such as search capabilities.\n",
            "   - Provides a way to define workflow graphs with nodes and edges to control the flow of execution in AI applications.\n",
            "\n",
            "4. Workflow Structure:\n",
            "   - Users can define entry points and graph edges for their AI applications.\n",
            "   - The framework allows for the addition of tools that agents can use.\n",
            "   - It supports the creation of normal edges to define the flow between different nodes (e.g., after using tools, returning to the agent for decision-making).\n",
            "\n",
            "5. State Management:\n",
            "   - LangGraph adds input messages to an internal state and passes this state between nodes in the graph.\n",
            "\n",
            "6. Control and Optimization:\n",
            "   - It offers granular control over an agent's thought process.\n",
            "   - This level of control allows for data-driven and deliberate decisions in AI applications.\n",
            "\n",
            "7. Applications:\n",
            "   - It's being used to evaluate and optimize the performance of AI guest-facing solutions in some industries.\n",
            "   - The framework seems particularly useful for creating complex, interactive AI systems that need to make decisions and use various tools.\n",
            "\n",
            "8. Integration:\n",
            "   - LangGraph appears to be related to or integrated with LangChain, another popular framework for building applications with LLMs.\n",
            "\n",
            "LangGraph seems to be a powerful tool for developers and organizations looking to create sophisticated AI agents and applications, especially those requiring complex decision-making processes and tool usage. It provides a structured way to build and manage the flow of information and decisions in AI systems.\n",
            "\n",
            "Is there any specific aspect of LangGraph you'd like to know more about? I'd be happy to delve deeper into any particular area of interest.\n"
          ]
        }
      ]
    },
    {
      "cell_type": "markdown",
      "source": [
        "### Part 5: Manually Updating the State"
      ],
      "metadata": {
        "id": "6YaOIqHkuUYo"
      }
    },
    {
      "cell_type": "code",
      "source": [
        "from typing import Annotated\n",
        "\n",
        "from langchain_anthropic import ChatAnthropic\n",
        "from langchain_community.tools.tavily_search import TavilySearchResults\n",
        "from typing_extensions import TypedDict\n",
        "\n",
        "from langgraph.checkpoint.memory import MemorySaver\n",
        "from langgraph.graph import StateGraph, START\n",
        "from langgraph.graph.message import add_messages\n",
        "from langgraph.prebuilt import ToolNode, tools_condition\n",
        "\n",
        "\n",
        "class State(TypedDict):\n",
        "    messages: Annotated[list, add_messages]\n",
        "\n",
        "\n",
        "graph_builder = StateGraph(State)\n",
        "\n",
        "\n",
        "tool = TavilySearchResults(max_results=2)\n",
        "tools = [tool]\n",
        "llm = ChatAnthropic(model=\"claude-3-5-sonnet-20240620\")\n",
        "llm_with_tools = llm.bind_tools(tools)\n",
        "\n",
        "\n",
        "def chatbot(state: State):\n",
        "    return {\"messages\": [llm_with_tools.invoke(state[\"messages\"])]}\n",
        "\n",
        "\n",
        "graph_builder.add_node(\"chatbot\", chatbot)\n",
        "\n",
        "tool_node = ToolNode(tools=[tool])\n",
        "graph_builder.add_node(\"tools\", tool_node)\n",
        "\n",
        "graph_builder.add_conditional_edges(\n",
        "    \"chatbot\",\n",
        "    tools_condition,\n",
        ")\n",
        "graph_builder.add_edge(\"tools\", \"chatbot\")\n",
        "graph_builder.add_edge(START, \"chatbot\")\n",
        "memory = MemorySaver()\n",
        "graph = graph_builder.compile(\n",
        "    checkpointer=memory,\n",
        "    # This is new!\n",
        "    interrupt_before=[\"tools\"],\n",
        "    # Note: can also interrupt **after** actions, if desired.\n",
        "    # interrupt_after=[\"tools\"]\n",
        ")\n",
        "\n",
        "user_input = \"I'm learning LangGraph. Could you do some research on it for me?\"\n",
        "config = {\"configurable\": {\"thread_id\": \"1\"}}\n",
        "# The config is the **second positional argument** to stream() or invoke()!\n",
        "events = graph.stream({\"messages\": [(\"user\", user_input)]}, config)\n",
        "for event in events:\n",
        "    if \"messages\" in event:\n",
        "        event[\"messages\"][-1].pretty_print()"
      ],
      "metadata": {
        "id": "P_Bu2DV5uIrM"
      },
      "execution_count": 108,
      "outputs": []
    },
    {
      "cell_type": "code",
      "source": [
        "snapshot = graph.get_state(config)\n",
        "existing_message = snapshot.values[\"messages\"][-1]\n",
        "existing_message.pretty_print()"
      ],
      "metadata": {
        "colab": {
          "base_uri": "https://localhost:8080/"
        },
        "id": "OICIzbEkuY8g",
        "outputId": "a9ff2461-2d08-47df-cd18-6ea8456bd1c1"
      },
      "execution_count": 109,
      "outputs": [
        {
          "output_type": "stream",
          "name": "stdout",
          "text": [
            "==================================\u001b[1m Ai Message \u001b[0m==================================\n",
            "\n",
            "[{'text': \"Certainly! I'd be happy to research LangGraph for you. To get the most up-to-date and accurate information, I'll use the Tavily search engine to look this up. Let me do that for you now.\", 'type': 'text'}, {'id': 'toolu_01SW1yACfSZnM9zC5GMPKYdx', 'input': {'query': 'LangGraph programming library'}, 'name': 'tavily_search_results_json', 'type': 'tool_use'}]\n",
            "Tool Calls:\n",
            "  tavily_search_results_json (toolu_01SW1yACfSZnM9zC5GMPKYdx)\n",
            " Call ID: toolu_01SW1yACfSZnM9zC5GMPKYdx\n",
            "  Args:\n",
            "    query: LangGraph programming library\n"
          ]
        }
      ]
    },
    {
      "cell_type": "code",
      "source": [
        "from langchain_core.messages import AIMessage, ToolMessage\n",
        "\n",
        "answer = (\n",
        "    \"LangGraph is a library for building stateful, multi-actor applications with LLMs.\"\n",
        ")\n",
        "new_messages = [\n",
        "    # The LLM API expects some ToolMessage to match its tool call. We'll satisfy that here.\n",
        "    ToolMessage(content=answer, tool_call_id=existing_message.tool_calls[0][\"id\"]),\n",
        "    # And then directly \"put words in the LLM's mouth\" by populating its response.\n",
        "    AIMessage(content=answer),\n",
        "]\n",
        "\n",
        "new_messages[-1].pretty_print()\n",
        "graph.update_state(\n",
        "    # Which state to update\n",
        "    config,\n",
        "    # The updated values to provide. The messages in our `State` are \"append-only\", meaning this will be appended\n",
        "    # to the existing state. We will review how to update existing messages in the next section!\n",
        "    {\"messages\": new_messages},\n",
        ")\n",
        "\n",
        "print(\"\\n\\nLast 2 messages;\")\n",
        "print(graph.get_state(config).values[\"messages\"][-2:])"
      ],
      "metadata": {
        "colab": {
          "base_uri": "https://localhost:8080/"
        },
        "id": "kTMhYHb9ubSY",
        "outputId": "9430b3e9-4b45-4d8b-92b5-2ebf6141b705"
      },
      "execution_count": 110,
      "outputs": [
        {
          "output_type": "stream",
          "name": "stdout",
          "text": [
            "==================================\u001b[1m Ai Message \u001b[0m==================================\n",
            "\n",
            "LangGraph is a library for building stateful, multi-actor applications with LLMs.\n",
            "\n",
            "\n",
            "Last 2 messages;\n",
            "[ToolMessage(content='LangGraph is a library for building stateful, multi-actor applications with LLMs.', id='eece8c1a-8b42-410c-af9e-830523ec0977', tool_call_id='toolu_01SW1yACfSZnM9zC5GMPKYdx'), AIMessage(content='LangGraph is a library for building stateful, multi-actor applications with LLMs.', additional_kwargs={}, response_metadata={}, id='e5a882ad-64b1-4389-8888-66ef34bc73c1')]\n"
          ]
        }
      ]
    },
    {
      "cell_type": "code",
      "source": [
        "class State(TypedDict):\n",
        "    messages: Annotated[list, add_messages]"
      ],
      "metadata": {
        "id": "jWIuw8ltuiCd"
      },
      "execution_count": 111,
      "outputs": []
    },
    {
      "cell_type": "code",
      "source": [
        "graph.update_state(\n",
        "    config,\n",
        "    {\"messages\": [AIMessage(content=\"I'm an AI expert!\")]},\n",
        "    # Which node for this function to act as. It will automatically continue\n",
        "    # processing as if this node just ran.\n",
        "    as_node=\"chatbot\",\n",
        ")"
      ],
      "metadata": {
        "colab": {
          "base_uri": "https://localhost:8080/"
        },
        "id": "i5v356nvunoG",
        "outputId": "84aff778-0573-4267-84b2-4ac6bdbea03f"
      },
      "execution_count": 112,
      "outputs": [
        {
          "output_type": "execute_result",
          "data": {
            "text/plain": [
              "{'configurable': {'thread_id': '1',\n",
              "  'checkpoint_ns': '',\n",
              "  'checkpoint_id': '1efab87d-be83-6db0-8003-2eb0fc2d1de5'}}"
            ]
          },
          "metadata": {},
          "execution_count": 112
        }
      ]
    },
    {
      "cell_type": "code",
      "source": [
        "from IPython.display import Image, display\n",
        "\n",
        "try:\n",
        "    display(Image(graph.get_graph().draw_mermaid_png()))\n",
        "except Exception:\n",
        "    # This requires some extra dependencies and is optional\n",
        "    pass"
      ],
      "metadata": {
        "colab": {
          "base_uri": "https://localhost:8080/",
          "height": 308
        },
        "id": "xcSDYtgiupSv",
        "outputId": "53ed4c6c-1d26-4307-bd5b-eda83de804dd"
      },
      "execution_count": 113,
      "outputs": [
        {
          "output_type": "display_data",
          "data": {
            "image/png": "[encoded data removed]",
            "text/plain": [
              "<IPython.core.display.Image object>"
            ]
          },
          "metadata": {}
        }
      ]
    },
    {
      "cell_type": "code",
      "source": [
        "snapshot = graph.get_state(config)\n",
        "print(snapshot.values[\"messages\"][-3:])\n",
        "print(snapshot.next)"
      ],
      "metadata": {
        "colab": {
          "base_uri": "https://localhost:8080/"
        },
        "id": "RLXb-npEusqq",
        "outputId": "6f6806e8-d6a8-4676-f6e0-1bb80d6c4253"
      },
      "execution_count": 114,
      "outputs": [
        {
          "output_type": "stream",
          "name": "stdout",
          "text": [
            "[ToolMessage(content='LangGraph is a library for building stateful, multi-actor applications with LLMs.', id='eece8c1a-8b42-410c-af9e-830523ec0977', tool_call_id='toolu_01SW1yACfSZnM9zC5GMPKYdx'), AIMessage(content='LangGraph is a library for building stateful, multi-actor applications with LLMs.', additional_kwargs={}, response_metadata={}, id='e5a882ad-64b1-4389-8888-66ef34bc73c1'), AIMessage(content=\"I'm an AI expert!\", additional_kwargs={}, response_metadata={}, id='6fb79359-5cdb-4934-a6db-40505cf007b6')]\n",
            "()\n"
          ]
        }
      ]
    },
    {
      "cell_type": "code",
      "source": [
        "user_input = \"I'm learning LangGraph. Could you do some research on it for me?\"\n",
        "config = {\"configurable\": {\"thread_id\": \"2\"}}  # we'll use thread_id = 2 here\n",
        "events = graph.stream(\n",
        "    {\"messages\": [(\"user\", user_input)]}, config, stream_mode=\"values\"\n",
        ")\n",
        "for event in events:\n",
        "    if \"messages\" in event:\n",
        "        event[\"messages\"][-1].pretty_print()"
      ],
      "metadata": {
        "colab": {
          "base_uri": "https://localhost:8080/"
        },
        "id": "eF6MELNVuvhT",
        "outputId": "47ef3144-3f45-4615-9a0f-eb694d9d547b"
      },
      "execution_count": 115,
      "outputs": [
        {
          "output_type": "stream",
          "name": "stdout",
          "text": [
            "================================\u001b[1m Human Message \u001b[0m=================================\n",
            "\n",
            "I'm learning LangGraph. Could you do some research on it for me?\n",
            "==================================\u001b[1m Ai Message \u001b[0m==================================\n",
            "\n",
            "[{'text': \"Certainly! I'd be happy to research LangGraph for you. To get the most up-to-date and comprehensive information, I'll use the Tavily search function to look this up. Let me do that for you now.\", 'type': 'text'}, {'id': 'toolu_01GpAStdpr5jDJxYcshrJ2rj', 'input': {'query': 'LangGraph: what is it, how is it used, and latest developments'}, 'name': 'tavily_search_results_json', 'type': 'tool_use'}]\n",
            "Tool Calls:\n",
            "  tavily_search_results_json (toolu_01GpAStdpr5jDJxYcshrJ2rj)\n",
            " Call ID: toolu_01GpAStdpr5jDJxYcshrJ2rj\n",
            "  Args:\n",
            "    query: LangGraph: what is it, how is it used, and latest developments\n"
          ]
        }
      ]
    },
    {
      "cell_type": "code",
      "source": [
        "from langchain_core.messages import AIMessage\n",
        "\n",
        "snapshot = graph.get_state(config)\n",
        "existing_message = snapshot.values[\"messages\"][-1]\n",
        "print(\"Original\")\n",
        "print(\"Message ID\", existing_message.id)\n",
        "print(existing_message.tool_calls[0])\n",
        "new_tool_call = existing_message.tool_calls[0].copy()\n",
        "new_tool_call[\"args\"][\"query\"] = \"LangGraph human-in-the-loop workflow\"\n",
        "new_message = AIMessage(\n",
        "    content=existing_message.content,\n",
        "    tool_calls=[new_tool_call],\n",
        "    # Important! The ID is how LangGraph knows to REPLACE the message in the state rather than APPEND this messages\n",
        "    id=existing_message.id,\n",
        ")\n",
        "\n",
        "print(\"Updated\")\n",
        "print(new_message.tool_calls[0])\n",
        "print(\"Message ID\", new_message.id)\n",
        "graph.update_state(config, {\"messages\": [new_message]})\n",
        "\n",
        "print(\"\\n\\nTool calls\")\n",
        "graph.get_state(config).values[\"messages\"][-1].tool_calls"
      ],
      "metadata": {
        "colab": {
          "base_uri": "https://localhost:8080/"
        },
        "id": "8TAiXNCquzhw",
        "outputId": "22c0fba3-16e2-459e-a317-01f9480f5109"
      },
      "execution_count": 116,
      "outputs": [
        {
          "output_type": "stream",
          "name": "stdout",
          "text": [
            "Original\n",
            "Message ID run-0c42820a-dbe0-4090-9e95-eae0c9542354-0\n",
            "{'name': 'tavily_search_results_json', 'args': {'query': 'LangGraph: what is it, how is it used, and latest developments'}, 'id': 'toolu_01GpAStdpr5jDJxYcshrJ2rj', 'type': 'tool_call'}\n",
            "Updated\n",
            "{'name': 'tavily_search_results_json', 'args': {'query': 'LangGraph human-in-the-loop workflow'}, 'id': 'toolu_01GpAStdpr5jDJxYcshrJ2rj', 'type': 'tool_call'}\n",
            "Message ID run-0c42820a-dbe0-4090-9e95-eae0c9542354-0\n",
            "\n",
            "\n",
            "Tool calls\n"
          ]
        },
        {
          "output_type": "execute_result",
          "data": {
            "text/plain": [
              "[{'name': 'tavily_search_results_json',\n",
              "  'args': {'query': 'LangGraph human-in-the-loop workflow'},\n",
              "  'id': 'toolu_01GpAStdpr5jDJxYcshrJ2rj',\n",
              "  'type': 'tool_call'}]"
            ]
          },
          "metadata": {},
          "execution_count": 116
        }
      ]
    },
    {
      "cell_type": "code",
      "source": [
        "events = graph.stream(None, config, stream_mode=\"values\")\n",
        "for event in events:\n",
        "    if \"messages\" in event:\n",
        "        event[\"messages\"][-1].pretty_print()"
      ],
      "metadata": {
        "colab": {
          "base_uri": "https://localhost:8080/"
        },
        "id": "j5fL0tWQu5Kl",
        "outputId": "106616d7-5ac1-49f9-d379-c98656f5af8d"
      },
      "execution_count": 117,
      "outputs": [
        {
          "output_type": "stream",
          "name": "stdout",
          "text": [
            "==================================\u001b[1m Ai Message \u001b[0m==================================\n",
            "\n",
            "[{'text': \"Certainly! I'd be happy to research LangGraph for you. To get the most up-to-date and comprehensive information, I'll use the Tavily search function to look this up. Let me do that for you now.\", 'type': 'text'}, {'id': 'toolu_01GpAStdpr5jDJxYcshrJ2rj', 'input': {'query': 'LangGraph: what is it, how is it used, and latest developments'}, 'name': 'tavily_search_results_json', 'type': 'tool_use'}]\n",
            "Tool Calls:\n",
            "  tavily_search_results_json (toolu_01GpAStdpr5jDJxYcshrJ2rj)\n",
            " Call ID: toolu_01GpAStdpr5jDJxYcshrJ2rj\n",
            "  Args:\n",
            "    query: LangGraph human-in-the-loop workflow\n",
            "=================================\u001b[1m Tool Message \u001b[0m=================================\n",
            "Name: tavily_search_results_json\n",
            "\n",
            "[{\"url\": \"https://www.youtube.com/watch?v=9BPCV5TYPmg\", \"content\": \"In this video, I'll show you how to handle persistence with LangGraph, enabling a unique Human-in-the-Loop workflow. This approach allows a human to grant an\"}, {\"url\": \"https://medium.com/@harishreddykondapalli/building-a-human-in-the-loop-movie-recommendation-system-with-langgraph-44541f151e80\", \"content\": \"Building a Human-in-the-Loop Movie Recommendation System with LangGraph | by Harish Kondapalli | Nov, 2024 | Medium In this post, I'll walk you through using LangGraph to create a movie recommendation system that allows users to refine their preferences in real-time. Each agent performs a specific function in the recommendation process, allowing the system to ask users for input, filter movie suggestions based on genre, and provide tailored recommendations. LangGraph provides a robust, flexible framework for building human-in-the-loop recommendation systems that adapt to user input. Whether for movie recommendations or other interactive applications, LangGraph’s multi-agent, graph-based design enables developers to create personalized, scalable solutions that respond in real-time to individual preferences.\"}]\n",
            "==================================\u001b[1m Ai Message \u001b[0m==================================\n",
            "\n",
            "Thank you for your patience. I've gathered some information about LangGraph for you, focusing on its capabilities for human-in-the-loop workflows. Here's what I've found:\n",
            "\n",
            "1. What is LangGraph?\n",
            "LangGraph is a framework for building applications with language models. It's particularly useful for creating multi-agent systems and workflows that involve human interaction.\n",
            "\n",
            "2. Human-in-the-Loop Capability:\n",
            "One of the key features of LangGraph is its support for human-in-the-loop workflows. This means it can create systems where human input and AI work together interactively.\n",
            "\n",
            "3. Persistence Handling:\n",
            "LangGraph allows for handling persistence in workflows. This feature enables unique human-in-the-loop scenarios where a human can provide input or guidance at various stages of the process.\n",
            "\n",
            "4. Application Example - Movie Recommendation System:\n",
            "An interesting application of LangGraph is in building a movie recommendation system:\n",
            "   - The system uses multiple agents, each performing a specific function in the recommendation process.\n",
            "   - It can ask users for input, filter movie suggestions based on genre, and provide tailored recommendations.\n",
            "   - The system adapts to user input in real-time, refining preferences as the interaction progresses.\n",
            "\n",
            "5. Flexibility and Scalability:\n",
            "LangGraph provides a robust and flexible framework that allows developers to create personalized, scalable solutions. These solutions can respond in real-time to individual preferences, making it suitable for various interactive applications beyond just movie recommendations.\n",
            "\n",
            "6. Graph-Based Design:\n",
            "The framework uses a graph-based design, which likely contributes to its ability to manage complex workflows and multi-agent interactions effectively.\n",
            "\n",
            "7. Developer-Friendly:\n",
            "LangGraph seems to be designed with developers in mind, offering tools to create sophisticated AI-powered applications that can incorporate human feedback seamlessly.\n",
            "\n",
            "LangGraph appears to be a powerful tool for developers looking to create interactive, adaptive AI systems that can work in conjunction with human input. Its ability to handle complex workflows, maintain persistence, and adapt to real-time user feedback makes it particularly suited for applications where personalization and human-AI collaboration are key.\n",
            "\n",
            "Would you like more information on any specific aspect of LangGraph, or do you have any questions about how it might be applied to particular use cases?\n"
          ]
        }
      ]
    },
    {
      "cell_type": "code",
      "source": [
        "events = graph.stream(\n",
        "    {\n",
        "        \"messages\": (\n",
        "            \"user\",\n",
        "            \"Remember what I'm learning about?\",\n",
        "        )\n",
        "    },\n",
        "    config,\n",
        "    stream_mode=\"values\",\n",
        ")\n",
        "for event in events:\n",
        "    if \"messages\" in event:\n",
        "        event[\"messages\"][-1].pretty_print()"
      ],
      "metadata": {
        "colab": {
          "base_uri": "https://localhost:8080/"
        },
        "id": "FDNHkbvRu-m2",
        "outputId": "42b4de41-3754-4cfd-ef0c-34a93fb57610"
      },
      "execution_count": 118,
      "outputs": [
        {
          "output_type": "stream",
          "name": "stdout",
          "text": [
            "================================\u001b[1m Human Message \u001b[0m=================================\n",
            "\n",
            "Remember what I'm learning about?\n",
            "==================================\u001b[1m Ai Message \u001b[0m==================================\n",
            "\n",
            "Of course! You mentioned that you're learning LangGraph. Is there anything specific about LangGraph that you'd like to know more about or any particular aspects you're finding challenging in your learning process?\n"
          ]
        }
      ]
    },
    {
      "cell_type": "markdown",
      "source": [
        "### Part 6: Customizing State"
      ],
      "metadata": {
        "id": "yFQsesuNvR9R"
      }
    },
    {
      "cell_type": "code",
      "source": [
        "from typing import Annotated\n",
        "\n",
        "from langchain_anthropic import ChatAnthropic\n",
        "from langchain_community.tools.tavily_search import TavilySearchResults\n",
        "from typing_extensions import TypedDict\n",
        "\n",
        "from langgraph.checkpoint.memory import MemorySaver\n",
        "from langgraph.graph import StateGraph, START\n",
        "from langgraph.graph.message import add_messages\n",
        "from langgraph.prebuilt import ToolNode, tools_condition\n",
        "\n",
        "\n",
        "class State(TypedDict):\n",
        "    messages: Annotated[list, add_messages]\n",
        "    # This flag is new\n",
        "    ask_human: bool"
      ],
      "metadata": {
        "id": "i5Ml-z8IvHpT"
      },
      "execution_count": 119,
      "outputs": []
    },
    {
      "cell_type": "code",
      "source": [
        "from pydantic import BaseModel\n",
        "\n",
        "\n",
        "class RequestAssistance(BaseModel):\n",
        "    \"\"\"Escalate the conversation to an expert. Use this if you are unable to assist directly or if the user requires support beyond your permissions.\n",
        "\n",
        "    To use this function, relay the user's 'request' so the expert can provide the right guidance.\n",
        "    \"\"\"\n",
        "\n",
        "    request: str"
      ],
      "metadata": {
        "id": "VjEUwY2WvRbW"
      },
      "execution_count": 121,
      "outputs": []
    },
    {
      "cell_type": "code",
      "source": [
        "tool = TavilySearchResults(max_results=2)\n",
        "tools = [tool]\n",
        "llm = ChatAnthropic(model=\"claude-3-5-sonnet-20240620\")\n",
        "# We can bind the llm to a tool definition, a pydantic model, or a json schema\n",
        "llm_with_tools = llm.bind_tools(tools + [RequestAssistance])\n",
        "\n",
        "\n",
        "def chatbot(state: State):\n",
        "    response = llm_with_tools.invoke(state[\"messages\"])\n",
        "    ask_human = False\n",
        "    if (\n",
        "        response.tool_calls\n",
        "        and response.tool_calls[0][\"name\"] == RequestAssistance.__name__\n",
        "    ):\n",
        "        ask_human = True\n",
        "    return {\"messages\": [response], \"ask_human\": ask_human}"
      ],
      "metadata": {
        "id": "1GhT8WDevZvR"
      },
      "execution_count": 122,
      "outputs": []
    },
    {
      "cell_type": "code",
      "source": [
        "graph_builder = StateGraph(State)\n",
        "\n",
        "graph_builder.add_node(\"chatbot\", chatbot)\n",
        "graph_builder.add_node(\"tools\", ToolNode(tools=[tool]))"
      ],
      "metadata": {
        "colab": {
          "base_uri": "https://localhost:8080/"
        },
        "id": "COlr3ANuvdxw",
        "outputId": "f116d462-c7ea-47a9-f412-e12cd72e2f45"
      },
      "execution_count": 123,
      "outputs": [
        {
          "output_type": "execute_result",
          "data": {
            "text/plain": [
              "<langgraph.graph.state.StateGraph at 0x7acf0b9b0a60>"
            ]
          },
          "metadata": {},
          "execution_count": 123
        }
      ]
    },
    {
      "cell_type": "code",
      "source": [
        "from langchain_core.messages import AIMessage, ToolMessage\n",
        "\n",
        "\n",
        "def create_response(response: str, ai_message: AIMessage):\n",
        "    return ToolMessage(\n",
        "        content=response,\n",
        "        tool_call_id=ai_message.tool_calls[0][\"id\"],\n",
        "    )\n",
        "\n",
        "\n",
        "def human_node(state: State):\n",
        "    new_messages = []\n",
        "    if not isinstance(state[\"messages\"][-1], ToolMessage):\n",
        "        # Typically, the user will have updated the state during the interrupt.\n",
        "        # If they choose not to, we will include a placeholder ToolMessage to\n",
        "        # let the LLM continue.\n",
        "        new_messages.append(\n",
        "            create_response(\"No response from human.\", state[\"messages\"][-1])\n",
        "        )\n",
        "    return {\n",
        "        # Append the new messages\n",
        "        \"messages\": new_messages,\n",
        "        # Unset the flag\n",
        "        \"ask_human\": False,\n",
        "    }\n",
        "\n",
        "\n",
        "graph_builder.add_node(\"human\", human_node)"
      ],
      "metadata": {
        "colab": {
          "base_uri": "https://localhost:8080/"
        },
        "id": "xmgr1etcvf-C",
        "outputId": "fa08cc15-ccf0-449b-bc51-341ad036ac73"
      },
      "execution_count": 124,
      "outputs": [
        {
          "output_type": "execute_result",
          "data": {
            "text/plain": [
              "<langgraph.graph.state.StateGraph at 0x7acf0b9b0a60>"
            ]
          },
          "metadata": {},
          "execution_count": 124
        }
      ]
    },
    {
      "cell_type": "code",
      "source": [
        "def select_next_node(state: State):\n",
        "    if state[\"ask_human\"]:\n",
        "        return \"human\"\n",
        "    # Otherwise, we can route as before\n",
        "    return tools_condition(state)\n",
        "\n",
        "\n",
        "graph_builder.add_conditional_edges(\n",
        "    \"chatbot\",\n",
        "    select_next_node,\n",
        "    {\"human\": \"human\", \"tools\": \"tools\", END: END},\n",
        ")"
      ],
      "metadata": {
        "colab": {
          "base_uri": "https://localhost:8080/"
        },
        "id": "S7KvHr4mviMG",
        "outputId": "3f49ab2d-b5f4-4a31-c859-13b5f6d6db0f"
      },
      "execution_count": 125,
      "outputs": [
        {
          "output_type": "execute_result",
          "data": {
            "text/plain": [
              "<langgraph.graph.state.StateGraph at 0x7acf0b9b0a60>"
            ]
          },
          "metadata": {},
          "execution_count": 125
        }
      ]
    },
    {
      "cell_type": "code",
      "source": [
        "# The rest is the same\n",
        "graph_builder.add_edge(\"tools\", \"chatbot\")\n",
        "graph_builder.add_edge(\"human\", \"chatbot\")\n",
        "graph_builder.add_edge(START, \"chatbot\")\n",
        "memory = MemorySaver()\n",
        "graph = graph_builder.compile(\n",
        "    checkpointer=memory,\n",
        "    # We interrupt before 'human' here instead.\n",
        "    interrupt_before=[\"human\"],\n",
        ")"
      ],
      "metadata": {
        "id": "GjbZXIUVvkLB"
      },
      "execution_count": 126,
      "outputs": []
    },
    {
      "cell_type": "code",
      "source": [
        "from IPython.display import Image, display\n",
        "\n",
        "try:\n",
        "    display(Image(graph.get_graph().draw_mermaid_png()))\n",
        "except Exception:\n",
        "    # This requires some extra dependencies and is optional\n",
        "    pass"
      ],
      "metadata": {
        "colab": {
          "base_uri": "https://localhost:8080/",
          "height": 308
        },
        "id": "Go7zAwLUvmLd",
        "outputId": "3a94fa46-3074-4c85-bbfa-058a7f89263f"
      },
      "execution_count": 127,
      "outputs": [
        {
          "output_type": "display_data",
          "data": {
            "image/png": "[encoded data removed]",
            "text/plain": [
              "<IPython.core.display.Image object>"
            ]
          },
          "metadata": {}
        }
      ]
    },
    {
      "cell_type": "code",
      "source": [
        "user_input = \"I need some expert guidance for building this AI agent. Could you request assistance for me?\"\n",
        "config = {\"configurable\": {\"thread_id\": \"1\"}}\n",
        "# The config is the **second positional argument** to stream() or invoke()!\n",
        "events = graph.stream(\n",
        "    {\"messages\": [(\"user\", user_input)]}, config, stream_mode=\"values\"\n",
        ")\n",
        "for event in events:\n",
        "    if \"messages\" in event:\n",
        "        event[\"messages\"][-1].pretty_print()"
      ],
      "metadata": {
        "colab": {
          "base_uri": "https://localhost:8080/"
        },
        "id": "qefP8XCsvnrI",
        "outputId": "fb6f0cc4-20c7-46bf-8bc4-35ff5f6fe3ea"
      },
      "execution_count": 128,
      "outputs": [
        {
          "output_type": "stream",
          "name": "stdout",
          "text": [
            "================================\u001b[1m Human Message \u001b[0m=================================\n",
            "\n",
            "I need some expert guidance for building this AI agent. Could you request assistance for me?\n",
            "==================================\u001b[1m Ai Message \u001b[0m==================================\n",
            "\n",
            "[{'text': \"Certainly! I'd be happy to request assistance from an expert regarding guidance for building an AI agent. I'll use the RequestAssistance function to escalate your request. Here's how I'll do that:\", 'type': 'text'}, {'id': 'toolu_01558BbfZej3spaH3169wY55', 'input': {'request': 'The user needs expert guidance for building an AI agent. They are looking for assistance in the process of creating and developing an AI agent.'}, 'name': 'RequestAssistance', 'type': 'tool_use'}]\n",
            "Tool Calls:\n",
            "  RequestAssistance (toolu_01558BbfZej3spaH3169wY55)\n",
            " Call ID: toolu_01558BbfZej3spaH3169wY55\n",
            "  Args:\n",
            "    request: The user needs expert guidance for building an AI agent. They are looking for assistance in the process of creating and developing an AI agent.\n"
          ]
        }
      ]
    },
    {
      "cell_type": "code",
      "source": [
        "snapshot = graph.get_state(config)\n",
        "snapshot.next"
      ],
      "metadata": {
        "colab": {
          "base_uri": "https://localhost:8080/"
        },
        "id": "lpujHR7uvq-r",
        "outputId": "d6531682-3ada-4aed-a47e-d7fdb40412a4"
      },
      "execution_count": 129,
      "outputs": [
        {
          "output_type": "execute_result",
          "data": {
            "text/plain": [
              "('human',)"
            ]
          },
          "metadata": {},
          "execution_count": 129
        }
      ]
    },
    {
      "cell_type": "code",
      "source": [
        "ai_message = snapshot.values[\"messages\"][-1]\n",
        "human_response = (\n",
        "    \"We, the experts are here to help! We'd recommend you check out LangGraph to build your agent.\"\n",
        "    \" It's much more reliable and extensible than simple autonomous agents.\"\n",
        ")\n",
        "tool_message = create_response(human_response, ai_message)\n",
        "graph.update_state(config, {\"messages\": [tool_message]})"
      ],
      "metadata": {
        "colab": {
          "base_uri": "https://localhost:8080/"
        },
        "id": "TLIPNnlNvw13",
        "outputId": "f0556a8d-2932-4af6-f28f-1789690ea2b5"
      },
      "execution_count": 130,
      "outputs": [
        {
          "output_type": "execute_result",
          "data": {
            "text/plain": [
              "{'configurable': {'thread_id': '1',\n",
              "  'checkpoint_ns': '',\n",
              "  'checkpoint_id': '1efab888-fc56-6bfe-8002-9fd379613821'}}"
            ]
          },
          "metadata": {},
          "execution_count": 130
        }
      ]
    },
    {
      "cell_type": "code",
      "source": [
        "events = graph.stream(None, config, stream_mode=\"values\")\n",
        "for event in events:\n",
        "    if \"messages\" in event:\n",
        "        event[\"messages\"][-1].pretty_print()"
      ],
      "metadata": {
        "colab": {
          "base_uri": "https://localhost:8080/"
        },
        "id": "jV5LiMnIvy9T",
        "outputId": "68fb2bef-f40f-4ca2-c5b4-341f686d6dbe"
      },
      "execution_count": 131,
      "outputs": [
        {
          "output_type": "stream",
          "name": "stdout",
          "text": [
            "=================================\u001b[1m Tool Message \u001b[0m=================================\n",
            "\n",
            "We, the experts are here to help! We'd recommend you check out LangGraph to build your agent. It's much more reliable and extensible than simple autonomous agents.\n",
            "=================================\u001b[1m Tool Message \u001b[0m=================================\n",
            "\n",
            "We, the experts are here to help! We'd recommend you check out LangGraph to build your agent. It's much more reliable and extensible than simple autonomous agents.\n",
            "==================================\u001b[1m Ai Message \u001b[0m==================================\n",
            "\n",
            "Thank you for your patience. I've received a response from the experts regarding your request for guidance on building an AI agent. Here's what they've suggested:\n",
            "\n",
            "The experts recommend that you look into LangGraph for building your AI agent. They mention that LangGraph is a more reliable and extensible option compared to simple autonomous agents.\n",
            "\n",
            "LangGraph is likely a framework or tool designed specifically for creating sophisticated AI agents. Its advantages seem to be:\n",
            "\n",
            "1. Reliability: It probably offers more stable and consistent performance when building AI agents.\n",
            "2. Extensibility: This suggests that LangGraph allows for greater flexibility in customizing and expanding your AI agent's capabilities as needed.\n",
            "\n",
            "To get started with LangGraph, you might want to:\n",
            "\n",
            "1. Research LangGraph online to find its official documentation, tutorials, and resources.\n",
            "2. Look for any getting started guides or introductory courses on using LangGraph.\n",
            "3. Check if there are any community forums or discussion groups where you can ask questions and get support from other developers using LangGraph.\n",
            "4. Explore any sample projects or templates that demonstrate how to build AI agents using LangGraph.\n",
            "\n",
            "Is there any specific aspect of building an AI agent that you'd like more information about? Or would you like me to try to find more details about LangGraph for you?\n"
          ]
        }
      ]
    },
    {
      "cell_type": "markdown",
      "source": [
        "### Part 7: Time Travel"
      ],
      "metadata": {
        "id": "gaSBeVEwwA4J"
      }
    },
    {
      "cell_type": "code",
      "source": [
        "from typing import Annotated, Literal\n",
        "\n",
        "from langchain_anthropic import ChatAnthropic\n",
        "from langchain_community.tools.tavily_search import TavilySearchResults\n",
        "from langchain_core.messages import AIMessage, ToolMessage\n",
        "\n",
        "# NOTE: you must use langchain-core >= 0.3 with Pydantic v2\n",
        "from pydantic import BaseModel\n",
        "from typing_extensions import TypedDict\n",
        "\n",
        "from langgraph.checkpoint.memory import MemorySaver\n",
        "from langgraph.graph import StateGraph, START\n",
        "from langgraph.graph.message import add_messages\n",
        "from langgraph.prebuilt import ToolNode, tools_condition\n",
        "\n",
        "\n",
        "class State(TypedDict):\n",
        "    messages: Annotated[list, add_messages]\n",
        "    # This flag is new\n",
        "    ask_human: bool\n",
        "\n",
        "\n",
        "class RequestAssistance(BaseModel):\n",
        "    \"\"\"Escalate the conversation to an expert. Use this if you are unable to assist directly or if the user requires support beyond your permissions.\n",
        "\n",
        "    To use this function, relay the user's 'request' so the expert can provide the right guidance.\n",
        "    \"\"\"\n",
        "\n",
        "    request: str\n",
        "\n",
        "\n",
        "tool = TavilySearchResults(max_results=2)\n",
        "tools = [tool]\n",
        "llm = ChatAnthropic(model=\"claude-3-5-sonnet-20240620\")\n",
        "# We can bind the llm to a tool definition, a pydantic model, or a json schema\n",
        "llm_with_tools = llm.bind_tools(tools + [RequestAssistance])\n",
        "\n",
        "\n",
        "def chatbot(state: State):\n",
        "    response = llm_with_tools.invoke(state[\"messages\"])\n",
        "    ask_human = False\n",
        "    if (\n",
        "        response.tool_calls\n",
        "        and response.tool_calls[0][\"name\"] == RequestAssistance.__name__\n",
        "    ):\n",
        "        ask_human = True\n",
        "    return {\"messages\": [response], \"ask_human\": ask_human}\n",
        "\n",
        "\n",
        "graph_builder = StateGraph(State)\n",
        "\n",
        "graph_builder.add_node(\"chatbot\", chatbot)\n",
        "graph_builder.add_node(\"tools\", ToolNode(tools=[tool]))\n",
        "\n",
        "\n",
        "def create_response(response: str, ai_message: AIMessage):\n",
        "    return ToolMessage(\n",
        "        content=response,\n",
        "        tool_call_id=ai_message.tool_calls[0][\"id\"],\n",
        "    )\n",
        "\n",
        "\n",
        "def human_node(state: State):\n",
        "    new_messages = []\n",
        "    if not isinstance(state[\"messages\"][-1], ToolMessage):\n",
        "        # Typically, the user will have updated the state during the interrupt.\n",
        "        # If they choose not to, we will include a placeholder ToolMessage to\n",
        "        # let the LLM continue.\n",
        "        new_messages.append(\n",
        "            create_response(\"No response from human.\", state[\"messages\"][-1])\n",
        "        )\n",
        "    return {\n",
        "        # Append the new messages\n",
        "        \"messages\": new_messages,\n",
        "        # Unset the flag\n",
        "        \"ask_human\": False,\n",
        "    }\n",
        "\n",
        "\n",
        "graph_builder.add_node(\"human\", human_node)\n",
        "\n",
        "\n",
        "def select_next_node(state: State):\n",
        "    if state[\"ask_human\"]:\n",
        "        return \"human\"\n",
        "    # Otherwise, we can route as before\n",
        "    return tools_condition(state)\n",
        "\n",
        "\n",
        "graph_builder.add_conditional_edges(\n",
        "    \"chatbot\",\n",
        "    select_next_node,\n",
        "    {\"human\": \"human\", \"tools\": \"tools\", END: END},\n",
        ")\n",
        "graph_builder.add_edge(\"tools\", \"chatbot\")\n",
        "graph_builder.add_edge(\"human\", \"chatbot\")\n",
        "graph_builder.add_edge(START, \"chatbot\")\n",
        "memory = MemorySaver()\n",
        "graph = graph_builder.compile(\n",
        "    checkpointer=memory,\n",
        "    interrupt_before=[\"human\"],\n",
        ")"
      ],
      "metadata": {
        "id": "gDCF2T5Ov2aU"
      },
      "execution_count": 132,
      "outputs": []
    },
    {
      "cell_type": "code",
      "source": [
        "from IPython.display import Image, display\n",
        "\n",
        "try:\n",
        "    display(Image(graph.get_graph().draw_mermaid_png()))\n",
        "except Exception:\n",
        "    # This requires some extra dependencies and is optional\n",
        "    pass"
      ],
      "metadata": {
        "colab": {
          "base_uri": "https://localhost:8080/",
          "height": 308
        },
        "id": "S7fiYfqIwD3t",
        "outputId": "58ea9111-e86d-4511-8b5f-a738a613b022"
      },
      "execution_count": 133,
      "outputs": [
        {
          "output_type": "display_data",
          "data": {
            "image/png": "[encoded data removed]",
            "text/plain": [
              "<IPython.core.display.Image object>"
            ]
          },
          "metadata": {}
        }
      ]
    },
    {
      "cell_type": "code",
      "source": [
        "config = {\"configurable\": {\"thread_id\": \"1\"}}\n",
        "events = graph.stream(\n",
        "    {\n",
        "        \"messages\": [\n",
        "            (\"user\", \"I'm learning LangGraph. Could you do some research on it for me?\")\n",
        "        ]\n",
        "    },\n",
        "    config,\n",
        "    stream_mode=\"values\",\n",
        ")\n",
        "for event in events:\n",
        "    if \"messages\" in event:\n",
        "        event[\"messages\"][-1].pretty_print()"
      ],
      "metadata": {
        "colab": {
          "base_uri": "https://localhost:8080/"
        },
        "id": "PGmfhxnkwGm8",
        "outputId": "c4789377-5edf-493f-c9e3-5ac3ccc09068"
      },
      "execution_count": 134,
      "outputs": [
        {
          "output_type": "stream",
          "name": "stdout",
          "text": [
            "================================\u001b[1m Human Message \u001b[0m=================================\n",
            "\n",
            "I'm learning LangGraph. Could you do some research on it for me?\n",
            "==================================\u001b[1m Ai Message \u001b[0m==================================\n",
            "\n",
            "[{'text': \"Certainly! I'd be happy to research LangGraph for you. To get the most up-to-date and comprehensive information, I'll use the Tavily search engine to look this up. Let me do that for you now.\", 'type': 'text'}, {'id': 'toolu_017dRPk4T1Xtu5Pmqi4EPKkT', 'input': {'query': 'LangGraph: what is it, how is it used in AI development'}, 'name': 'tavily_search_results_json', 'type': 'tool_use'}]\n",
            "Tool Calls:\n",
            "  tavily_search_results_json (toolu_017dRPk4T1Xtu5Pmqi4EPKkT)\n",
            " Call ID: toolu_017dRPk4T1Xtu5Pmqi4EPKkT\n",
            "  Args:\n",
            "    query: LangGraph: what is it, how is it used in AI development\n",
            "=================================\u001b[1m Tool Message \u001b[0m=================================\n",
            "Name: tavily_search_results_json\n",
            "\n",
            "[{\"url\": \"https://towardsdatascience.com/from-basics-to-advanced-exploring-langgraph-e8c1cf4db787\", \"content\": \"While CrewAI is a high-level framework with many predefined features and ready-to-use components, LangGraph operates at a lower level, offering extensive customization and control. With that introduction, let's dive into the fundamental concepts of LangGraph. ... LangGraph, FastAPI, and Streamlit/Gradio: The Perfect Trio for AI Development.\"}, {\"url\": \"https://medium.com/@Shrishml/a-primer-on-ai-agents-with-langgraph-understand-all-about-it-0534345190dc\", \"content\": \"LangGraph simplifies AI agent development by focusing on three key components: State: This represents the agent's current information, often stored as a dictionary or managed through a database.\"}]\n",
            "==================================\u001b[1m Ai Message \u001b[0m==================================\n",
            "\n",
            "Thank you for your patience. I've researched LangGraph for you, and I'm happy to share what I've found. LangGraph is a powerful tool in the field of AI development, particularly for creating and managing AI agents. Here's an overview of what LangGraph is and how it's used:\n",
            "\n",
            "1. What is LangGraph?\n",
            "LangGraph is a framework designed for developing AI agents. It operates at a lower level compared to some other frameworks, offering extensive customization and control in AI development.\n",
            "\n",
            "2. Key Components:\n",
            "LangGraph focuses on three main components:\n",
            "   a) State: This represents the agent's current information, often stored as a dictionary or managed through a database.\n",
            "   b) Actions: These are the operations or tasks that the agent can perform.\n",
            "   c) Transitions: These define how the agent moves from one state to another based on the actions taken.\n",
            "\n",
            "3. Level of Operation:\n",
            "While some frameworks like CrewAI offer high-level, ready-to-use components, LangGraph operates at a lower level. This means it provides more flexibility and customization options for developers who want fine-grained control over their AI agents.\n",
            "\n",
            "4. Use in AI Development:\n",
            "LangGraph is often used in combination with other tools to create a comprehensive AI development environment. For example, it's mentioned that LangGraph, FastAPI, and Streamlit/Gradio form \"The Perfect Trio for AI Development.\"\n",
            "\n",
            "5. Simplifying AI Agent Development:\n",
            "One of the main advantages of LangGraph is that it simplifies the process of developing AI agents. By focusing on the key components (state, actions, and transitions), it provides a structured approach to creating complex AI systems.\n",
            "\n",
            "6. Customization and Control:\n",
            "The lower-level operation of LangGraph allows developers to have more control over the intricacies of their AI agents. This can be particularly useful for projects that require specific behaviors or unique agent architectures.\n",
            "\n",
            "7. Integration:\n",
            "LangGraph seems to be designed with integration in mind, allowing it to work well with other tools and frameworks in the AI development ecosystem.\n",
            "\n",
            "Learning LangGraph could be very beneficial if you're interested in developing custom AI agents or if you need fine-grained control over your AI systems. It appears to be a powerful tool for those who want to go beyond pre-built solutions and dive deeper into the mechanics of AI agent development.\n",
            "\n",
            "Is there any specific aspect of LangGraph you'd like to know more about? Or do you have any questions about how it compares to other AI development tools?\n"
          ]
        }
      ]
    },
    {
      "cell_type": "code",
      "source": [
        "events = graph.stream(\n",
        "    {\n",
        "        \"messages\": [\n",
        "            (\"user\", \"Ya that's helpful. Maybe I'll build an autonomous agent with it!\")\n",
        "        ]\n",
        "    },\n",
        "    config,\n",
        "    stream_mode=\"values\",\n",
        ")\n",
        "for event in events:\n",
        "    if \"messages\" in event:\n",
        "        event[\"messages\"][-1].pretty_print()"
      ],
      "metadata": {
        "colab": {
          "base_uri": "https://localhost:8080/"
        },
        "id": "xox9czhawJ_G",
        "outputId": "f8aa3abe-0b86-42f9-cc67-0a83053c281c"
      },
      "execution_count": 135,
      "outputs": [
        {
          "output_type": "stream",
          "name": "stdout",
          "text": [
            "================================\u001b[1m Human Message \u001b[0m=================================\n",
            "\n",
            "Ya that's helpful. Maybe I'll build an autonomous agent with it!\n",
            "==================================\u001b[1m Ai Message \u001b[0m==================================\n",
            "\n",
            "That's an exciting idea! Building an autonomous agent with LangGraph could be a great project to deepen your understanding of AI development and agent-based systems. Since you're considering this project, let me provide some additional insights and suggestions to help you get started:\n",
            "\n",
            "1. Project Planning:\n",
            "Before diving in, it's a good idea to outline what kind of autonomous agent you want to build. Consider its purpose, the environment it will operate in, and the tasks it should perform. This will help you structure your LangGraph implementation more effectively.\n",
            "\n",
            "2. Learning Resources:\n",
            "While I don't have direct links to official LangGraph documentation, you might want to look for tutorials, GitHub repositories, or community forums dedicated to LangGraph. These can provide practical examples and best practices.\n",
            "\n",
            "3. Start Small:\n",
            "Begin with a simple agent that performs basic tasks. This will help you understand the core concepts of LangGraph without getting overwhelmed. You can always add complexity later.\n",
            "\n",
            "4. Key Components to Focus On:\n",
            "   - State Management: Define how your agent will maintain and update its internal state.\n",
            "   - Action Definition: Clearly outline the actions your agent can take.\n",
            "   - Transition Logic: Determine how your agent will move between states based on its actions and the environment.\n",
            "\n",
            "5. Integration with Other Tools:\n",
            "Consider integrating your LangGraph-based agent with other tools mentioned earlier, like FastAPI for backend services or Streamlit/Gradio for a user interface. This can create a more comprehensive and interactive project.\n",
            "\n",
            "6. Testing and Iteration:\n",
            "As you build your agent, regularly test its performance and behavior. Autonomous agents often require fine-tuning and iteration to achieve desired results.\n",
            "\n",
            "7. Ethical Considerations:\n",
            "Keep in mind the ethical implications of autonomous agents. Ensure your agent behaves responsibly and doesn't unintentionally cause harm or make biased decisions.\n",
            "\n",
            "8. Community Engagement:\n",
            "Look for AI development communities or forums where you can share your progress, ask questions, and get feedback from others working with LangGraph or similar technologies.\n",
            "\n",
            "Building an autonomous agent is an ambitious and rewarding project. It's a great way to apply theoretical knowledge to a practical application. As you progress, you'll likely gain insights not just into LangGraph, but also into broader concepts of AI, decision-making systems, and software architecture.\n",
            "\n",
            "Do you have any specific ideas for what kind of autonomous agent you'd like to build? Or would you like some suggestions for beginner-friendly autonomous agent projects using LangGraph?\n"
          ]
        }
      ]
    },
    {
      "cell_type": "code",
      "source": [
        "to_replay = None\n",
        "for state in graph.get_state_history(config):\n",
        "    print(\"Num Messages: \", len(state.values[\"messages\"]), \"Next: \", state.next)\n",
        "    print(\"-\" * 80)\n",
        "    if len(state.values[\"messages\"]) == 6:\n",
        "        # We are somewhat arbitrarily selecting a specific state based on the number of chat messages in the state.\n",
        "        to_replay = state"
      ],
      "metadata": {
        "colab": {
          "base_uri": "https://localhost:8080/"
        },
        "id": "9uMOS5F-wOMb",
        "outputId": "162a737c-dd1a-4478-a067-9b41de0b5cf0"
      },
      "execution_count": 136,
      "outputs": [
        {
          "output_type": "stream",
          "name": "stdout",
          "text": [
            "Num Messages:  6 Next:  ()\n",
            "--------------------------------------------------------------------------------\n",
            "Num Messages:  5 Next:  ('chatbot',)\n",
            "--------------------------------------------------------------------------------\n",
            "Num Messages:  4 Next:  ('__start__',)\n",
            "--------------------------------------------------------------------------------\n",
            "Num Messages:  4 Next:  ()\n",
            "--------------------------------------------------------------------------------\n",
            "Num Messages:  3 Next:  ('chatbot',)\n",
            "--------------------------------------------------------------------------------\n",
            "Num Messages:  2 Next:  ('tools',)\n",
            "--------------------------------------------------------------------------------\n",
            "Num Messages:  1 Next:  ('chatbot',)\n",
            "--------------------------------------------------------------------------------\n",
            "Num Messages:  0 Next:  ('__start__',)\n",
            "--------------------------------------------------------------------------------\n"
          ]
        }
      ]
    },
    {
      "cell_type": "code",
      "source": [
        "print(to_replay.next)\n",
        "print(to_replay.config)"
      ],
      "metadata": {
        "colab": {
          "base_uri": "https://localhost:8080/"
        },
        "id": "vfv8hfEWwTYR",
        "outputId": "3cf8c187-753d-463d-e0fd-6808b4ce2398"
      },
      "execution_count": 137,
      "outputs": [
        {
          "output_type": "stream",
          "name": "stdout",
          "text": [
            "()\n",
            "{'configurable': {'thread_id': '1', 'checkpoint_ns': '', 'checkpoint_id': '1efab88d-817b-65a1-8006-b95885ab2fc6'}}\n"
          ]
        }
      ]
    },
    {
      "cell_type": "code",
      "source": [
        "# The `checkpoint_id` in the `to_replay.config` corresponds to a state we've persisted to our checkpointer.\n",
        "for event in graph.stream(None, to_replay.config, stream_mode=\"values\"):\n",
        "    if \"messages\" in event:\n",
        "        event[\"messages\"][-1].pretty_print()"
      ],
      "metadata": {
        "colab": {
          "base_uri": "https://localhost:8080/"
        },
        "id": "pXcP56FxwXj1",
        "outputId": "8a0c7bab-94c4-4f1b-bfed-f5ab160705ea"
      },
      "execution_count": 138,
      "outputs": [
        {
          "output_type": "stream",
          "name": "stdout",
          "text": [
            "==================================\u001b[1m Ai Message \u001b[0m==================================\n",
            "\n",
            "That's an exciting idea! Building an autonomous agent with LangGraph could be a great project to deepen your understanding of AI development and agent-based systems. Since you're considering this project, let me provide some additional insights and suggestions to help you get started:\n",
            "\n",
            "1. Project Planning:\n",
            "Before diving in, it's a good idea to outline what kind of autonomous agent you want to build. Consider its purpose, the environment it will operate in, and the tasks it should perform. This will help you structure your LangGraph implementation more effectively.\n",
            "\n",
            "2. Learning Resources:\n",
            "While I don't have direct links to official LangGraph documentation, you might want to look for tutorials, GitHub repositories, or community forums dedicated to LangGraph. These can provide practical examples and best practices.\n",
            "\n",
            "3. Start Small:\n",
            "Begin with a simple agent that performs basic tasks. This will help you understand the core concepts of LangGraph without getting overwhelmed. You can always add complexity later.\n",
            "\n",
            "4. Key Components to Focus On:\n",
            "   - State Management: Define how your agent will maintain and update its internal state.\n",
            "   - Action Definition: Clearly outline the actions your agent can take.\n",
            "   - Transition Logic: Determine how your agent will move between states based on its actions and the environment.\n",
            "\n",
            "5. Integration with Other Tools:\n",
            "Consider integrating your LangGraph-based agent with other tools mentioned earlier, like FastAPI for backend services or Streamlit/Gradio for a user interface. This can create a more comprehensive and interactive project.\n",
            "\n",
            "6. Testing and Iteration:\n",
            "As you build your agent, regularly test its performance and behavior. Autonomous agents often require fine-tuning and iteration to achieve desired results.\n",
            "\n",
            "7. Ethical Considerations:\n",
            "Keep in mind the ethical implications of autonomous agents. Ensure your agent behaves responsibly and doesn't unintentionally cause harm or make biased decisions.\n",
            "\n",
            "8. Community Engagement:\n",
            "Look for AI development communities or forums where you can share your progress, ask questions, and get feedback from others working with LangGraph or similar technologies.\n",
            "\n",
            "Building an autonomous agent is an ambitious and rewarding project. It's a great way to apply theoretical knowledge to a practical application. As you progress, you'll likely gain insights not just into LangGraph, but also into broader concepts of AI, decision-making systems, and software architecture.\n",
            "\n",
            "Do you have any specific ideas for what kind of autonomous agent you'd like to build? Or would you like some suggestions for beginner-friendly autonomous agent projects using LangGraph?\n"
          ]
        }
      ]
    },
    {
      "cell_type": "code",
      "source": [],
      "metadata": {
        "id": "E109vVwXwZVY"
      },
      "execution_count": null,
      "outputs": []
    }
  ],
  "metadata": {
    "colab": {
      "provenance": []
    },
    "kernelspec": {
      "display_name": "Python 3 (ipykernel)",
      "language": "python",
      "name": "python3"
    },
    "language_info": {
      "codemirror_mode": {
        "name": "ipython",
        "version": 3
      },
      "file_extension": ".py",
      "mimetype": "text/x-python",
      "name": "python",
      "nbconvert_exporter": "python",
      "pygments_lexer": "ipython3",
      "version": "3.12.7"
    }
  },
  "nbformat": 4,
  "nbformat_minor": 0
}